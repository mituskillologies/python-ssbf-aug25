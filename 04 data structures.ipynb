{
 "cells": [
  {
   "cell_type": "code",
   "execution_count": 2,
   "id": "687e178c-0be6-4f4b-860a-587f1be2993c",
   "metadata": {},
   "outputs": [],
   "source": [
    "num1 = [45, 67,51,28,95,37,51,21]\n",
    "num2 = (45, 67,51,28,95,37,51,21)\n",
    "num3 = {45, 67,51,28,95,37,51,21}\n",
    "num4 = {45:67,51:28,95:37,51:21}"
   ]
  },
  {
   "cell_type": "code",
   "execution_count": 3,
   "id": "6d7a1f25-f836-47d6-81c9-234654d864e6",
   "metadata": {},
   "outputs": [
    {
     "data": {
      "text/plain": [
       "(list, tuple, set, dict)"
      ]
     },
     "execution_count": 3,
     "metadata": {},
     "output_type": "execute_result"
    }
   ],
   "source": [
    "type(num1), type(num2), type(num3), type(num4) "
   ]
  },
  {
   "cell_type": "code",
   "execution_count": 4,
   "id": "413246af-9625-4780-b953-c675481155dd",
   "metadata": {},
   "outputs": [],
   "source": [
    "alpha = [45, 89.35, \"Pune\", 351]"
   ]
  },
  {
   "cell_type": "code",
   "execution_count": 5,
   "id": "54b1ef6e-61d8-4ba9-a036-b60fa2c2299c",
   "metadata": {},
   "outputs": [
    {
     "data": {
      "text/plain": [
       "list"
      ]
     },
     "execution_count": 5,
     "metadata": {},
     "output_type": "execute_result"
    }
   ],
   "source": [
    "type(alpha)"
   ]
  },
  {
   "cell_type": "code",
   "execution_count": 7,
   "id": "8c990593-39b6-43af-8bed-8314ee4db9e7",
   "metadata": {},
   "outputs": [
    {
     "data": {
      "text/plain": [
       "45"
      ]
     },
     "execution_count": 7,
     "metadata": {},
     "output_type": "execute_result"
    }
   ],
   "source": [
    "num1[0]"
   ]
  },
  {
   "cell_type": "code",
   "execution_count": 8,
   "id": "17b1d3f6-7127-4906-9c33-46e974cea586",
   "metadata": {},
   "outputs": [
    {
     "data": {
      "text/plain": [
       "37"
      ]
     },
     "execution_count": 8,
     "metadata": {},
     "output_type": "execute_result"
    }
   ],
   "source": [
    "num1[5]"
   ]
  },
  {
   "cell_type": "code",
   "execution_count": 11,
   "id": "d0c90150-7488-48ab-a072-fabae99bd2c8",
   "metadata": {},
   "outputs": [],
   "source": [
    "num1[3] = 62"
   ]
  },
  {
   "cell_type": "code",
   "execution_count": 12,
   "id": "0fd4b331-2236-44ec-97f3-8098add18401",
   "metadata": {},
   "outputs": [
    {
     "data": {
      "text/plain": [
       "[45, 67, 51, 62, 95, 37, 51, 21]"
      ]
     },
     "execution_count": 12,
     "metadata": {},
     "output_type": "execute_result"
    }
   ],
   "source": [
    "num1"
   ]
  },
  {
   "cell_type": "code",
   "execution_count": 13,
   "id": "a29b9a83-3efb-4b95-a0af-1f74663e395c",
   "metadata": {},
   "outputs": [
    {
     "data": {
      "text/plain": [
       "21"
      ]
     },
     "execution_count": 13,
     "metadata": {},
     "output_type": "execute_result"
    }
   ],
   "source": [
    "num1[-1]"
   ]
  },
  {
   "cell_type": "markdown",
   "id": "f47524e6-dbde-4655-b8eb-4f90fb5dcf68",
   "metadata": {},
   "source": [
    "##### Slicing"
   ]
  },
  {
   "cell_type": "code",
   "execution_count": 15,
   "id": "e1d6903a-831f-4a74-aab9-2f06aa51527a",
   "metadata": {},
   "outputs": [],
   "source": [
    "x = num1[2:6]"
   ]
  },
  {
   "cell_type": "code",
   "execution_count": 16,
   "id": "cf2963c8-1925-418a-860b-2ef3f7084340",
   "metadata": {},
   "outputs": [
    {
     "data": {
      "text/plain": [
       "[51, 62, 95, 37]"
      ]
     },
     "execution_count": 16,
     "metadata": {},
     "output_type": "execute_result"
    }
   ],
   "source": [
    "x"
   ]
  },
  {
   "cell_type": "code",
   "execution_count": 17,
   "id": "c8434383-66d3-491c-a81b-62a2384e8457",
   "metadata": {},
   "outputs": [
    {
     "data": {
      "text/plain": [
       "[95, 37, 51, 21]"
      ]
     },
     "execution_count": 17,
     "metadata": {},
     "output_type": "execute_result"
    }
   ],
   "source": [
    "num1[4:]"
   ]
  },
  {
   "cell_type": "code",
   "execution_count": 18,
   "id": "a88723ca-a005-4180-bb74-195d41c52d1e",
   "metadata": {},
   "outputs": [
    {
     "data": {
      "text/plain": [
       "[45, 67, 51, 62, 95]"
      ]
     },
     "execution_count": 18,
     "metadata": {},
     "output_type": "execute_result"
    }
   ],
   "source": [
    "num1[:5]"
   ]
  },
  {
   "cell_type": "code",
   "execution_count": 19,
   "id": "9182cf7e-2092-43a2-b246-cfca644ab9cb",
   "metadata": {},
   "outputs": [],
   "source": [
    "num1[2:4] = [37, 84, 51]"
   ]
  },
  {
   "cell_type": "code",
   "execution_count": 20,
   "id": "8ee449a6-2a96-461e-b464-71e1581400a7",
   "metadata": {},
   "outputs": [
    {
     "data": {
      "text/plain": [
       "[45, 67, 37, 84, 51, 95, 37, 51, 21]"
      ]
     },
     "execution_count": 20,
     "metadata": {},
     "output_type": "execute_result"
    }
   ],
   "source": [
    "num1"
   ]
  },
  {
   "cell_type": "code",
   "execution_count": 21,
   "id": "dae80001-a5f8-4b9e-85b2-0241993da223",
   "metadata": {},
   "outputs": [
    {
     "ename": "IndexError",
     "evalue": "list index out of range",
     "output_type": "error",
     "traceback": [
      "\u001b[0;31m---------------------------------------------------------------------------\u001b[0m",
      "\u001b[0;31mIndexError\u001b[0m                                Traceback (most recent call last)",
      "Cell \u001b[0;32mIn[21], line 1\u001b[0m\n\u001b[0;32m----> 1\u001b[0m \u001b[43mnum1\u001b[49m\u001b[43m[\u001b[49m\u001b[38;5;241;43m10\u001b[39;49m\u001b[43m]\u001b[49m\n",
      "\u001b[0;31mIndexError\u001b[0m: list index out of range"
     ]
    }
   ],
   "source": [
    "num1[10]"
   ]
  },
  {
   "cell_type": "code",
   "execution_count": 22,
   "id": "b46a9ff4-feac-4260-9cbe-0107b5706aac",
   "metadata": {},
   "outputs": [
    {
     "data": {
      "text/plain": [
       "True"
      ]
     },
     "execution_count": 22,
     "metadata": {},
     "output_type": "execute_result"
    }
   ],
   "source": [
    "95 in num1"
   ]
  },
  {
   "cell_type": "code",
   "execution_count": 23,
   "id": "9d272ae3-d2b7-445d-a723-1c22ca3f893a",
   "metadata": {},
   "outputs": [
    {
     "data": {
      "text/plain": [
       "False"
      ]
     },
     "execution_count": 23,
     "metadata": {},
     "output_type": "execute_result"
    }
   ],
   "source": [
    "100 in num1"
   ]
  },
  {
   "cell_type": "code",
   "execution_count": 24,
   "id": "6e9942b7-6519-4fa8-82d0-5cd04b37a748",
   "metadata": {},
   "outputs": [
    {
     "data": {
      "text/plain": [
       "True"
      ]
     },
     "execution_count": 24,
     "metadata": {},
     "output_type": "execute_result"
    }
   ],
   "source": [
    "100 not in num1"
   ]
  },
  {
   "cell_type": "code",
   "execution_count": 26,
   "id": "af92cb09-80b7-4771-bdf6-6c9e3e703d37",
   "metadata": {},
   "outputs": [
    {
     "name": "stdout",
     "output_type": "stream",
     "text": [
      "45 22.5\n",
      "67 33.5\n",
      "37 18.5\n",
      "84 42.0\n",
      "51 25.5\n",
      "95 47.5\n",
      "37 18.5\n",
      "51 25.5\n",
      "21 10.5\n"
     ]
    }
   ],
   "source": [
    "for i in num1:\n",
    "    print(i, i/2)"
   ]
  },
  {
   "cell_type": "code",
   "execution_count": 27,
   "id": "960a7c33-afd1-4a5e-b47d-ed4ccfddf2ca",
   "metadata": {},
   "outputs": [
    {
     "name": "stdout",
     "output_type": "stream",
     "text": [
      "45\n",
      "67\n",
      "37\n",
      "51\n",
      "95\n",
      "37\n",
      "51\n",
      "21\n"
     ]
    }
   ],
   "source": [
    "for i in num1:\n",
    "    if i % 2 == 1:\n",
    "        print(i)"
   ]
  },
  {
   "cell_type": "code",
   "execution_count": 28,
   "id": "62553a16-1342-4dee-b159-d49246232558",
   "metadata": {},
   "outputs": [
    {
     "data": {
      "text/plain": [
       "[45, 67, 37, 84, 51, 95, 37, 51, 21, 45, 67, 37, 84, 51, 95, 37, 51, 21]"
      ]
     },
     "execution_count": 28,
     "metadata": {},
     "output_type": "execute_result"
    }
   ],
   "source": [
    "num1 * 2"
   ]
  },
  {
   "cell_type": "code",
   "execution_count": 29,
   "id": "9fdb2ccd-4d48-4d0c-ae56-aedd1fa7755e",
   "metadata": {},
   "outputs": [
    {
     "data": {
      "text/plain": [
       "[45, 67, 37, 84, 51, 95, 37, 51, 21]"
      ]
     },
     "execution_count": 29,
     "metadata": {},
     "output_type": "execute_result"
    }
   ],
   "source": [
    "num1"
   ]
  },
  {
   "cell_type": "code",
   "execution_count": 30,
   "id": "00886d80-fd9f-42b6-bb2d-eea5047d73e8",
   "metadata": {},
   "outputs": [],
   "source": [
    "num1 += [39, 40]"
   ]
  },
  {
   "cell_type": "code",
   "execution_count": 31,
   "id": "77816ba6-afd5-401e-ab86-94cbabfbaed6",
   "metadata": {},
   "outputs": [
    {
     "data": {
      "text/plain": [
       "[45, 67, 37, 84, 51, 95, 37, 51, 21, 39, 40]"
      ]
     },
     "execution_count": 31,
     "metadata": {},
     "output_type": "execute_result"
    }
   ],
   "source": [
    "num1"
   ]
  },
  {
   "cell_type": "code",
   "execution_count": 32,
   "id": "b952d4cf-a2e5-431e-9486-da7353e317f0",
   "metadata": {},
   "outputs": [],
   "source": [
    "e = []"
   ]
  },
  {
   "cell_type": "code",
   "execution_count": 33,
   "id": "a7284844-3ff4-4234-8f8b-aa0ebf19fd6a",
   "metadata": {},
   "outputs": [
    {
     "data": {
      "text/plain": [
       "[]"
      ]
     },
     "execution_count": 33,
     "metadata": {},
     "output_type": "execute_result"
    }
   ],
   "source": [
    "e"
   ]
  },
  {
   "cell_type": "code",
   "execution_count": 34,
   "id": "489007cc-4fd0-419c-9da0-239d30d5064e",
   "metadata": {},
   "outputs": [],
   "source": [
    "e += [6, 12]"
   ]
  },
  {
   "cell_type": "code",
   "execution_count": 35,
   "id": "c5fa2408-7f9c-496f-91a1-b8cfcc294fdd",
   "metadata": {},
   "outputs": [
    {
     "data": {
      "text/plain": [
       "[6, 12]"
      ]
     },
     "execution_count": 35,
     "metadata": {},
     "output_type": "execute_result"
    }
   ],
   "source": [
    "e"
   ]
  },
  {
   "cell_type": "code",
   "execution_count": 36,
   "id": "a57c599b-daaa-4f91-bc31-04575461d9d8",
   "metadata": {},
   "outputs": [],
   "source": [
    "# list comprehension\n",
    "new = [i *i for i in num1]"
   ]
  },
  {
   "cell_type": "code",
   "execution_count": 37,
   "id": "dfdf59fe-7e3d-43b7-a7fd-823208762a78",
   "metadata": {},
   "outputs": [
    {
     "data": {
      "text/plain": [
       "[2025, 4489, 1369, 7056, 2601, 9025, 1369, 2601, 441, 1521, 1600]"
      ]
     },
     "execution_count": 37,
     "metadata": {},
     "output_type": "execute_result"
    }
   ],
   "source": [
    "new"
   ]
  },
  {
   "cell_type": "code",
   "execution_count": 38,
   "id": "d7741ad7-2d09-4751-bb35-1c9ac58ae884",
   "metadata": {},
   "outputs": [
    {
     "data": {
      "text/plain": [
       "[45, 67, 37, 84, 51, 95, 37, 51, 21, 39, 40]"
      ]
     },
     "execution_count": 38,
     "metadata": {},
     "output_type": "execute_result"
    }
   ],
   "source": [
    "num1"
   ]
  },
  {
   "cell_type": "code",
   "execution_count": 39,
   "id": "bf3f43ca-dbb5-4f9b-a452-31365d501490",
   "metadata": {},
   "outputs": [],
   "source": [
    "new = [i for i in num1 if i > 50 ]"
   ]
  },
  {
   "cell_type": "code",
   "execution_count": 40,
   "id": "11700169-516c-4e9f-8425-8969e528003c",
   "metadata": {},
   "outputs": [
    {
     "data": {
      "text/plain": [
       "[67, 84, 51, 95, 51]"
      ]
     },
     "execution_count": 40,
     "metadata": {},
     "output_type": "execute_result"
    }
   ],
   "source": [
    "new"
   ]
  },
  {
   "cell_type": "code",
   "execution_count": 41,
   "id": "9f57e2bf-4667-4dde-a473-927d2c32ebe0",
   "metadata": {},
   "outputs": [
    {
     "data": {
      "text/plain": [
       "11"
      ]
     },
     "execution_count": 41,
     "metadata": {},
     "output_type": "execute_result"
    }
   ],
   "source": [
    "len(num1)"
   ]
  },
  {
   "cell_type": "code",
   "execution_count": 42,
   "id": "51bc8389-ab1e-4cc1-aca4-325644df0f1c",
   "metadata": {},
   "outputs": [
    {
     "data": {
      "text/plain": [
       "567"
      ]
     },
     "execution_count": 42,
     "metadata": {},
     "output_type": "execute_result"
    }
   ],
   "source": [
    "sum(num1)"
   ]
  },
  {
   "cell_type": "code",
   "execution_count": 43,
   "id": "7295d355-a5da-44d2-8e33-9a9d0c7ae775",
   "metadata": {},
   "outputs": [
    {
     "data": {
      "text/plain": [
       "95"
      ]
     },
     "execution_count": 43,
     "metadata": {},
     "output_type": "execute_result"
    }
   ],
   "source": [
    "max(num1)"
   ]
  },
  {
   "cell_type": "code",
   "execution_count": 44,
   "id": "32f679ab-0dfb-4193-875c-cf08b26302ad",
   "metadata": {},
   "outputs": [
    {
     "data": {
      "text/plain": [
       "21"
      ]
     },
     "execution_count": 44,
     "metadata": {},
     "output_type": "execute_result"
    }
   ],
   "source": [
    "min(num1)"
   ]
  },
  {
   "cell_type": "code",
   "execution_count": 45,
   "id": "e0b373bd-24cb-4b95-94be-c780cfbaae26",
   "metadata": {},
   "outputs": [
    {
     "data": {
      "text/plain": [
       "[21, 37, 37, 39, 40, 45, 51, 51, 67, 84, 95]"
      ]
     },
     "execution_count": 45,
     "metadata": {},
     "output_type": "execute_result"
    }
   ],
   "source": [
    "sorted(num1)"
   ]
  },
  {
   "cell_type": "code",
   "execution_count": 46,
   "id": "f73e9189-ea5e-4133-8f4a-bb562d5095ea",
   "metadata": {},
   "outputs": [
    {
     "data": {
      "text/plain": [
       "[95, 84, 67, 51, 51, 45, 40, 39, 37, 37, 21]"
      ]
     },
     "execution_count": 46,
     "metadata": {},
     "output_type": "execute_result"
    }
   ],
   "source": [
    "sorted(num1, reverse=True)"
   ]
  },
  {
   "cell_type": "code",
   "execution_count": 47,
   "id": "6dac03e2-d583-457d-a31d-e2a299594974",
   "metadata": {},
   "outputs": [
    {
     "name": "stdout",
     "output_type": "stream",
     "text": [
      "Help on built-in function sorted in module builtins:\n",
      "\n",
      "sorted(iterable, /, *, key=None, reverse=False)\n",
      "    Return a new list containing all items from the iterable in ascending order.\n",
      "    \n",
      "    A custom key function can be supplied to customize the sort order, and the\n",
      "    reverse flag can be set to request the result in descending order.\n",
      "\n"
     ]
    }
   ],
   "source": [
    "help(sorted)"
   ]
  },
  {
   "cell_type": "code",
   "execution_count": 48,
   "id": "f6422cce-0128-4452-a6aa-e30346b56132",
   "metadata": {},
   "outputs": [
    {
     "data": {
      "text/plain": [
       "[45, 67, 37, 84, 51, 95, 37, 51, 21, 39, 40]"
      ]
     },
     "execution_count": 48,
     "metadata": {},
     "output_type": "execute_result"
    }
   ],
   "source": [
    "num1"
   ]
  },
  {
   "cell_type": "code",
   "execution_count": 49,
   "id": "473b5e53-aae2-4728-9e6d-330b6007754e",
   "metadata": {},
   "outputs": [],
   "source": [
    "num1.append(90)"
   ]
  },
  {
   "cell_type": "code",
   "execution_count": 50,
   "id": "da84a5a5-a982-4b89-9db4-f51b4408aae7",
   "metadata": {},
   "outputs": [
    {
     "data": {
      "text/plain": [
       "[45, 67, 37, 84, 51, 95, 37, 51, 21, 39, 40, 90]"
      ]
     },
     "execution_count": 50,
     "metadata": {},
     "output_type": "execute_result"
    }
   ],
   "source": [
    "num1"
   ]
  },
  {
   "cell_type": "code",
   "execution_count": 51,
   "id": "0a481411-e153-4519-869d-96bb84007903",
   "metadata": {},
   "outputs": [],
   "source": [
    "num1.insert(4,72)"
   ]
  },
  {
   "cell_type": "code",
   "execution_count": 52,
   "id": "7f504b13-47e6-4b83-8906-daa19dc86777",
   "metadata": {},
   "outputs": [
    {
     "data": {
      "text/plain": [
       "[45, 67, 37, 84, 72, 51, 95, 37, 51, 21, 39, 40, 90]"
      ]
     },
     "execution_count": 52,
     "metadata": {},
     "output_type": "execute_result"
    }
   ],
   "source": [
    "num1"
   ]
  },
  {
   "cell_type": "code",
   "execution_count": 53,
   "id": "14b721c2-0c17-42fa-8fa7-b57a0bf13397",
   "metadata": {},
   "outputs": [
    {
     "data": {
      "text/plain": [
       "2"
      ]
     },
     "execution_count": 53,
     "metadata": {},
     "output_type": "execute_result"
    }
   ],
   "source": [
    "num1.count(51)"
   ]
  },
  {
   "cell_type": "code",
   "execution_count": 55,
   "id": "ca486d3e-2f33-4954-b16f-42cb624338b1",
   "metadata": {},
   "outputs": [
    {
     "data": {
      "text/plain": [
       "6"
      ]
     },
     "execution_count": 55,
     "metadata": {},
     "output_type": "execute_result"
    }
   ],
   "source": [
    "num1.index(95)"
   ]
  },
  {
   "cell_type": "code",
   "execution_count": 56,
   "id": "44eb9e41-b6df-4f91-87f1-b2531c9a56a3",
   "metadata": {},
   "outputs": [],
   "source": [
    "del num1[0]"
   ]
  },
  {
   "cell_type": "code",
   "execution_count": 57,
   "id": "97fdb993-7137-4100-a319-51476ff776a9",
   "metadata": {},
   "outputs": [
    {
     "data": {
      "text/plain": [
       "[67, 37, 84, 72, 51, 95, 37, 51, 21, 39, 40, 90]"
      ]
     },
     "execution_count": 57,
     "metadata": {},
     "output_type": "execute_result"
    }
   ],
   "source": [
    "num1"
   ]
  },
  {
   "cell_type": "code",
   "execution_count": 58,
   "id": "4f4b94b8-462d-4788-b595-a58dd2e4fe99",
   "metadata": {},
   "outputs": [],
   "source": [
    "num1.remove(72)"
   ]
  },
  {
   "cell_type": "code",
   "execution_count": 59,
   "id": "f31235b0-e6b8-48a7-85b5-71b4c8e6c605",
   "metadata": {},
   "outputs": [
    {
     "data": {
      "text/plain": [
       "[67, 37, 84, 51, 95, 37, 51, 21, 39, 40, 90]"
      ]
     },
     "execution_count": 59,
     "metadata": {},
     "output_type": "execute_result"
    }
   ],
   "source": [
    "num1"
   ]
  },
  {
   "cell_type": "code",
   "execution_count": 60,
   "id": "0169c68a-a5b5-4775-b7c0-bfe40e03b4b7",
   "metadata": {},
   "outputs": [],
   "source": [
    "x = num1.pop(4)"
   ]
  },
  {
   "cell_type": "code",
   "execution_count": 61,
   "id": "a103a28c-b51b-45ac-9722-c99638c64b12",
   "metadata": {},
   "outputs": [
    {
     "data": {
      "text/plain": [
       "95"
      ]
     },
     "execution_count": 61,
     "metadata": {},
     "output_type": "execute_result"
    }
   ],
   "source": [
    "x"
   ]
  },
  {
   "cell_type": "code",
   "execution_count": 62,
   "id": "bf306e9b-007e-4c1d-aaf2-00a34bc3f9d7",
   "metadata": {},
   "outputs": [
    {
     "data": {
      "text/plain": [
       "[67, 37, 84, 51, 37, 51, 21, 39, 40, 90]"
      ]
     },
     "execution_count": 62,
     "metadata": {},
     "output_type": "execute_result"
    }
   ],
   "source": [
    "num1"
   ]
  },
  {
   "cell_type": "code",
   "execution_count": 63,
   "id": "10cb0cf0-a17b-4803-88a2-260f1839c8dc",
   "metadata": {},
   "outputs": [],
   "source": [
    "num1.sort()"
   ]
  },
  {
   "cell_type": "code",
   "execution_count": 64,
   "id": "2c751f5d-e56a-4470-8ccc-64a831a3b9dc",
   "metadata": {},
   "outputs": [
    {
     "data": {
      "text/plain": [
       "[21, 37, 37, 39, 40, 51, 51, 67, 84, 90]"
      ]
     },
     "execution_count": 64,
     "metadata": {},
     "output_type": "execute_result"
    }
   ],
   "source": [
    "num1"
   ]
  },
  {
   "cell_type": "code",
   "execution_count": 65,
   "id": "1e38c34e-4673-4a0b-b36a-8871d369c15d",
   "metadata": {},
   "outputs": [],
   "source": [
    "num1.sort(reverse=True)"
   ]
  },
  {
   "cell_type": "code",
   "execution_count": 66,
   "id": "8a85c460-e73a-4023-b242-8d22fed03e83",
   "metadata": {},
   "outputs": [
    {
     "data": {
      "text/plain": [
       "[90, 84, 67, 51, 51, 40, 39, 37, 37, 21]"
      ]
     },
     "execution_count": 66,
     "metadata": {},
     "output_type": "execute_result"
    }
   ],
   "source": [
    "num1"
   ]
  },
  {
   "cell_type": "code",
   "execution_count": 67,
   "id": "47e1a351-6af4-41de-8622-b751f6dbc2d0",
   "metadata": {},
   "outputs": [],
   "source": [
    "num1.clear()"
   ]
  },
  {
   "cell_type": "code",
   "execution_count": 68,
   "id": "2fa623b2-15f3-4fad-adda-6777b116a6b6",
   "metadata": {},
   "outputs": [
    {
     "data": {
      "text/plain": [
       "[]"
      ]
     },
     "execution_count": 68,
     "metadata": {},
     "output_type": "execute_result"
    }
   ],
   "source": [
    "num1"
   ]
  },
  {
   "cell_type": "code",
   "execution_count": 69,
   "id": "6ec9c28c-a8c9-4674-98b2-0e6789dcc774",
   "metadata": {},
   "outputs": [],
   "source": [
    "num = [5, 6, 2, 8, 9, 1, 3, 7, 4, 0]"
   ]
  },
  {
   "cell_type": "code",
   "execution_count": 70,
   "id": "43056a74-9f84-4a1e-9884-ac94d3c62504",
   "metadata": {},
   "outputs": [],
   "source": [
    "x = num[:5]\n",
    "y = num[5:]\n",
    "y.sort()\n",
    "num = x + y"
   ]
  },
  {
   "cell_type": "code",
   "execution_count": 71,
   "id": "97f2b532-5916-4500-a9ae-639489bdba3e",
   "metadata": {},
   "outputs": [
    {
     "data": {
      "text/plain": [
       "[5, 6, 2, 8, 9, 0, 1, 3, 4, 7]"
      ]
     },
     "execution_count": 71,
     "metadata": {},
     "output_type": "execute_result"
    }
   ],
   "source": [
    "num"
   ]
  },
  {
   "cell_type": "markdown",
   "id": "ce39949e-e074-4f27-a1bc-d687d26a1e55",
   "metadata": {},
   "source": [
    "##### Example"
   ]
  },
  {
   "cell_type": "code",
   "execution_count": 73,
   "id": "d64d0c8b-d807-406a-ac7e-86e8f12e8cb7",
   "metadata": {},
   "outputs": [],
   "source": [
    "transactions = [150.50, 450.00, 75.25, 2000.00, 95.75]"
   ]
  },
  {
   "cell_type": "code",
   "execution_count": 74,
   "id": "0daac7a6-878c-4afa-9f39-7e4600ef78e2",
   "metadata": {},
   "outputs": [],
   "source": [
    "# 1\n",
    "transactions.append(300.50)"
   ]
  },
  {
   "cell_type": "code",
   "execution_count": 75,
   "id": "43380595-13a1-4b6c-a848-76beef6016f8",
   "metadata": {},
   "outputs": [],
   "source": [
    "transactions.insert(1, 1200)"
   ]
  },
  {
   "cell_type": "code",
   "execution_count": 76,
   "id": "fd7d01b1-2a21-4b37-86ea-161542019481",
   "metadata": {},
   "outputs": [
    {
     "data": {
      "text/plain": [
       "[150.5, 1200, 450.0, 75.25, 2000.0, 95.75, 300.5]"
      ]
     },
     "execution_count": 76,
     "metadata": {},
     "output_type": "execute_result"
    }
   ],
   "source": [
    "transactions"
   ]
  },
  {
   "cell_type": "code",
   "execution_count": 81,
   "id": "3211d41f-5b21-4378-862e-121f40fea249",
   "metadata": {},
   "outputs": [
    {
     "data": {
      "text/plain": [
       "[2000.0, 95.75, 300.5]"
      ]
     },
     "execution_count": 81,
     "metadata": {},
     "output_type": "execute_result"
    }
   ],
   "source": [
    "# 2\n",
    "transactions[4:]"
   ]
  },
  {
   "cell_type": "code",
   "execution_count": 82,
   "id": "933bf353-f68c-40ad-ad51-a296244c88d4",
   "metadata": {},
   "outputs": [
    {
     "name": "stdout",
     "output_type": "stream",
     "text": [
      "4272.0\n"
     ]
    }
   ],
   "source": [
    "# 3\n",
    "total = 0\n",
    "for i in transactions:\n",
    "    total += i\n",
    "print(total)"
   ]
  },
  {
   "cell_type": "code",
   "execution_count": 83,
   "id": "4d6e7ca9-5d8d-4735-947d-2f5c85238fbc",
   "metadata": {},
   "outputs": [
    {
     "data": {
      "text/plain": [
       "610.2857142857143"
      ]
     },
     "execution_count": 83,
     "metadata": {},
     "output_type": "execute_result"
    }
   ],
   "source": [
    "total / len(transactions)"
   ]
  },
  {
   "cell_type": "code",
   "execution_count": 84,
   "id": "3ed73fcd-9c93-414d-93a1-3d7afd3f5270",
   "metadata": {},
   "outputs": [
    {
     "data": {
      "text/plain": [
       "[1200, 2000.0]"
      ]
     },
     "execution_count": 84,
     "metadata": {},
     "output_type": "execute_result"
    }
   ],
   "source": [
    "high_value_transactions = [tran for tran in transactions if tran > 500]\n",
    "high_value_transactions"
   ]
  },
  {
   "cell_type": "code",
   "execution_count": 85,
   "id": "d2732fc6-f90c-497f-a1f9-c3ca1d9df899",
   "metadata": {},
   "outputs": [],
   "source": [
    "# 4\n",
    "transactions.pop(0)\n",
    "transactions.remove(95.75)"
   ]
  },
  {
   "cell_type": "code",
   "execution_count": 86,
   "id": "52e52ae7-2330-400f-89e6-91f51ff6c118",
   "metadata": {},
   "outputs": [
    {
     "data": {
      "text/plain": [
       "(75.25, 2000.0)"
      ]
     },
     "execution_count": 86,
     "metadata": {},
     "output_type": "execute_result"
    }
   ],
   "source": [
    "# 5\n",
    "transactions.sort()\n",
    "transactions[0], transactions[-1]"
   ]
  },
  {
   "cell_type": "code",
   "execution_count": 87,
   "id": "e6746d60-fdce-4f52-94e8-3137b54c7014",
   "metadata": {},
   "outputs": [
    {
     "data": {
      "text/plain": [
       "(4025.75, 2000.0, 75.25)"
      ]
     },
     "execution_count": 87,
     "metadata": {},
     "output_type": "execute_result"
    }
   ],
   "source": [
    "# 6\n",
    "sum(transactions), max(transactions), min(transactions)"
   ]
  },
  {
   "cell_type": "code",
   "execution_count": 88,
   "id": "2efccb24-35bb-41c9-a917-54e8e7a5e024",
   "metadata": {},
   "outputs": [
    {
     "data": {
      "text/plain": [
       "805.15"
      ]
     },
     "execution_count": 88,
     "metadata": {},
     "output_type": "execute_result"
    }
   ],
   "source": [
    "sum(transactions) / len(transactions)"
   ]
  },
  {
   "cell_type": "code",
   "execution_count": 90,
   "id": "c970999c-be99-4e8e-b279-86a4e15d30a2",
   "metadata": {},
   "outputs": [],
   "source": [
    "##### tuple"
   ]
  },
  {
   "cell_type": "code",
   "execution_count": 91,
   "id": "38da631c-3d25-4c84-a766-edc59479f694",
   "metadata": {},
   "outputs": [
    {
     "data": {
      "text/plain": [
       "(45, 67, 51, 28, 95, 37, 51, 21)"
      ]
     },
     "execution_count": 91,
     "metadata": {},
     "output_type": "execute_result"
    }
   ],
   "source": [
    "num2"
   ]
  },
  {
   "cell_type": "code",
   "execution_count": 92,
   "id": "5a5fa8b1-53cb-41e1-9a7d-2253460592c4",
   "metadata": {},
   "outputs": [
    {
     "data": {
      "text/plain": [
       "tuple"
      ]
     },
     "execution_count": 92,
     "metadata": {},
     "output_type": "execute_result"
    }
   ],
   "source": [
    "type(num2)"
   ]
  },
  {
   "cell_type": "code",
   "execution_count": 93,
   "id": "99a0f442-5432-49fb-986e-174ae445cdae",
   "metadata": {},
   "outputs": [
    {
     "data": {
      "text/plain": [
       "95"
      ]
     },
     "execution_count": 93,
     "metadata": {},
     "output_type": "execute_result"
    }
   ],
   "source": [
    "num2[4]"
   ]
  },
  {
   "cell_type": "code",
   "execution_count": 94,
   "id": "af438b6c-4fb9-477a-a6b8-c9dd7f5d9a7c",
   "metadata": {},
   "outputs": [
    {
     "ename": "TypeError",
     "evalue": "'tuple' object does not support item assignment",
     "output_type": "error",
     "traceback": [
      "\u001b[0;31m---------------------------------------------------------------------------\u001b[0m",
      "\u001b[0;31mTypeError\u001b[0m                                 Traceback (most recent call last)",
      "Cell \u001b[0;32mIn[94], line 1\u001b[0m\n\u001b[0;32m----> 1\u001b[0m \u001b[43mnum2\u001b[49m\u001b[43m[\u001b[49m\u001b[38;5;241;43m4\u001b[39;49m\u001b[43m]\u001b[49m \u001b[38;5;241m=\u001b[39m \u001b[38;5;241m10\u001b[39m\n",
      "\u001b[0;31mTypeError\u001b[0m: 'tuple' object does not support item assignment"
     ]
    }
   ],
   "source": [
    "num2[4] = 10"
   ]
  },
  {
   "cell_type": "code",
   "execution_count": 95,
   "id": "1803e1cb-e62a-441d-a51d-0913f399c354",
   "metadata": {},
   "outputs": [
    {
     "data": {
      "text/plain": [
       "True"
      ]
     },
     "execution_count": 95,
     "metadata": {},
     "output_type": "execute_result"
    }
   ],
   "source": [
    "45 in num2"
   ]
  },
  {
   "cell_type": "code",
   "execution_count": 96,
   "id": "4d01b4c0-fec9-404a-92b7-9d2aa4cbe4b1",
   "metadata": {},
   "outputs": [
    {
     "name": "stdout",
     "output_type": "stream",
     "text": [
      "45\n",
      "67\n",
      "51\n",
      "28\n",
      "95\n",
      "37\n",
      "51\n",
      "21\n"
     ]
    }
   ],
   "source": [
    "for i in num2:\n",
    "    print(i)"
   ]
  },
  {
   "cell_type": "code",
   "execution_count": 97,
   "id": "25ea243e-ad20-4cb1-ad20-8fbad90cf777",
   "metadata": {},
   "outputs": [
    {
     "data": {
      "text/plain": [
       "(21, 95, 395, 8)"
      ]
     },
     "execution_count": 97,
     "metadata": {},
     "output_type": "execute_result"
    }
   ],
   "source": [
    "min(num2), max(num2), sum(num2), len(num2)"
   ]
  },
  {
   "cell_type": "code",
   "execution_count": 98,
   "id": "8c33845d-c170-4388-8faf-4cc789926c20",
   "metadata": {},
   "outputs": [
    {
     "data": {
      "text/plain": [
       "1"
      ]
     },
     "execution_count": 98,
     "metadata": {},
     "output_type": "execute_result"
    }
   ],
   "source": [
    "num2.count(21)"
   ]
  },
  {
   "cell_type": "code",
   "execution_count": 99,
   "id": "42e8978a-ad9e-4dff-8fea-7fb86085611f",
   "metadata": {},
   "outputs": [
    {
     "data": {
      "text/plain": [
       "7"
      ]
     },
     "execution_count": 99,
     "metadata": {},
     "output_type": "execute_result"
    }
   ],
   "source": [
    "num2.index(21)"
   ]
  },
  {
   "cell_type": "code",
   "execution_count": 100,
   "id": "35398dc6-1f26-4b98-b347-10af775dac4f",
   "metadata": {},
   "outputs": [
    {
     "data": {
      "text/plain": [
       "()"
      ]
     },
     "execution_count": 100,
     "metadata": {},
     "output_type": "execute_result"
    }
   ],
   "source": [
    "tuple(num1)"
   ]
  },
  {
   "cell_type": "code",
   "execution_count": 101,
   "id": "d570afd4-8c44-40b6-992a-29fdfd88c8cf",
   "metadata": {},
   "outputs": [],
   "source": [
    "num1 = [54,12,38,65,38,12]"
   ]
  },
  {
   "cell_type": "code",
   "execution_count": 102,
   "id": "0c3a02d8-2195-481e-8bd9-dff79e8510ae",
   "metadata": {},
   "outputs": [
    {
     "data": {
      "text/plain": [
       "(54, 12, 38, 65, 38, 12)"
      ]
     },
     "execution_count": 102,
     "metadata": {},
     "output_type": "execute_result"
    }
   ],
   "source": [
    "tuple(num1)"
   ]
  },
  {
   "cell_type": "code",
   "execution_count": 103,
   "id": "1ea7b8dd-014d-4c39-a58d-02a21e40d881",
   "metadata": {},
   "outputs": [
    {
     "data": {
      "text/plain": [
       "[45, 67, 51, 28, 95, 37, 51, 21]"
      ]
     },
     "execution_count": 103,
     "metadata": {},
     "output_type": "execute_result"
    }
   ],
   "source": [
    "list(num2)"
   ]
  },
  {
   "cell_type": "markdown",
   "id": "532a51e5-25d2-4d62-911b-8a22aec1dc86",
   "metadata": {},
   "source": [
    "##### set"
   ]
  },
  {
   "cell_type": "code",
   "execution_count": 105,
   "id": "66f4f24d-d11a-42dd-aa8b-62d534df065d",
   "metadata": {},
   "outputs": [],
   "source": [
    "num3 = {12, 34,26,54,71,25,12,12,65,54,12}"
   ]
  },
  {
   "cell_type": "code",
   "execution_count": 106,
   "id": "e9d7ad9f-7cb0-42a7-8f6c-052592544abe",
   "metadata": {},
   "outputs": [
    {
     "data": {
      "text/plain": [
       "set"
      ]
     },
     "execution_count": 106,
     "metadata": {},
     "output_type": "execute_result"
    }
   ],
   "source": [
    "type(num3)"
   ]
  },
  {
   "cell_type": "code",
   "execution_count": 107,
   "id": "a25c6099-5107-4c0b-8956-752bc41a51c5",
   "metadata": {},
   "outputs": [
    {
     "data": {
      "text/plain": [
       "{12, 25, 26, 34, 54, 65, 71}"
      ]
     },
     "execution_count": 107,
     "metadata": {},
     "output_type": "execute_result"
    }
   ],
   "source": [
    "num3"
   ]
  },
  {
   "cell_type": "code",
   "execution_count": 108,
   "id": "48a320b5-c954-44ee-a55c-05f979f69e6b",
   "metadata": {},
   "outputs": [],
   "source": [
    "num3.add(25)"
   ]
  },
  {
   "cell_type": "code",
   "execution_count": 109,
   "id": "929dcd79-d47e-4c4a-b17a-e99c215fb54f",
   "metadata": {},
   "outputs": [
    {
     "data": {
      "text/plain": [
       "{12, 25, 26, 34, 54, 65, 71}"
      ]
     },
     "execution_count": 109,
     "metadata": {},
     "output_type": "execute_result"
    }
   ],
   "source": [
    "num3"
   ]
  },
  {
   "cell_type": "code",
   "execution_count": 110,
   "id": "bd571c71-3527-47cf-9fe0-e112bcb055e0",
   "metadata": {},
   "outputs": [],
   "source": [
    "num3.add(67)"
   ]
  },
  {
   "cell_type": "code",
   "execution_count": 111,
   "id": "8d0cd4e4-8cb2-4966-a4e2-75a0a25eb47d",
   "metadata": {},
   "outputs": [
    {
     "data": {
      "text/plain": [
       "{12, 25, 26, 34, 54, 65, 67, 71}"
      ]
     },
     "execution_count": 111,
     "metadata": {},
     "output_type": "execute_result"
    }
   ],
   "source": [
    "num3"
   ]
  },
  {
   "cell_type": "markdown",
   "id": "ba73b178-d881-4907-97f4-aa764529f5f7",
   "metadata": {},
   "source": [
    "##### Dictionary"
   ]
  },
  {
   "cell_type": "code",
   "execution_count": 113,
   "id": "0710b4eb-a44b-447c-b368-da3aeb0a730c",
   "metadata": {},
   "outputs": [],
   "source": [
    "d = {2:46, 4:46, 5:788, 9:36, 12:47}"
   ]
  },
  {
   "cell_type": "code",
   "execution_count": 114,
   "id": "5f303406-9691-4d8a-90b2-cb580c544201",
   "metadata": {},
   "outputs": [
    {
     "data": {
      "text/plain": [
       "dict"
      ]
     },
     "execution_count": 114,
     "metadata": {},
     "output_type": "execute_result"
    }
   ],
   "source": [
    "type(d)"
   ]
  },
  {
   "cell_type": "code",
   "execution_count": 115,
   "id": "6bf39899-03f3-4261-b4dc-d1a51cae30f2",
   "metadata": {},
   "outputs": [
    {
     "data": {
      "text/plain": [
       "788"
      ]
     },
     "execution_count": 115,
     "metadata": {},
     "output_type": "execute_result"
    }
   ],
   "source": [
    "d[5]"
   ]
  },
  {
   "cell_type": "code",
   "execution_count": 116,
   "id": "18508864-fe47-46db-8079-71cfea4080a8",
   "metadata": {},
   "outputs": [
    {
     "data": {
      "text/plain": [
       "36"
      ]
     },
     "execution_count": 116,
     "metadata": {},
     "output_type": "execute_result"
    }
   ],
   "source": [
    "d[9]"
   ]
  },
  {
   "cell_type": "code",
   "execution_count": 117,
   "id": "684c4620-a19b-400a-9980-b8380d8afdfb",
   "metadata": {},
   "outputs": [
    {
     "ename": "KeyError",
     "evalue": "8",
     "output_type": "error",
     "traceback": [
      "\u001b[0;31m---------------------------------------------------------------------------\u001b[0m",
      "\u001b[0;31mKeyError\u001b[0m                                  Traceback (most recent call last)",
      "Cell \u001b[0;32mIn[117], line 1\u001b[0m\n\u001b[0;32m----> 1\u001b[0m \u001b[43md\u001b[49m\u001b[43m[\u001b[49m\u001b[38;5;241;43m8\u001b[39;49m\u001b[43m]\u001b[49m\n",
      "\u001b[0;31mKeyError\u001b[0m: 8"
     ]
    }
   ],
   "source": [
    "d[8]"
   ]
  },
  {
   "cell_type": "code",
   "execution_count": 118,
   "id": "9eb4541f-430a-4d99-b3f0-560c522e6f60",
   "metadata": {},
   "outputs": [],
   "source": [
    "d[4] = 'Pune'"
   ]
  },
  {
   "cell_type": "code",
   "execution_count": 119,
   "id": "b553bb35-ff20-4c2e-83db-159ff2e10675",
   "metadata": {},
   "outputs": [
    {
     "data": {
      "text/plain": [
       "{2: 46, 4: 'Pune', 5: 788, 9: 36, 12: 47}"
      ]
     },
     "execution_count": 119,
     "metadata": {},
     "output_type": "execute_result"
    }
   ],
   "source": [
    "d"
   ]
  },
  {
   "cell_type": "code",
   "execution_count": 120,
   "id": "5dd5ef96-900e-4862-af66-12ce91f6cf77",
   "metadata": {},
   "outputs": [],
   "source": [
    "d['a'] = 'apple'"
   ]
  },
  {
   "cell_type": "code",
   "execution_count": 122,
   "id": "a4b32f74-1572-4506-b636-1545688e2217",
   "metadata": {},
   "outputs": [
    {
     "data": {
      "text/plain": [
       "{2: 46, 4: 'Pune', 5: 788, 9: 36, 12: 47, 'a': 'apple'}"
      ]
     },
     "execution_count": 122,
     "metadata": {},
     "output_type": "execute_result"
    }
   ],
   "source": [
    "d"
   ]
  },
  {
   "cell_type": "code",
   "execution_count": 123,
   "id": "1dd6a210-fd73-44e9-bf44-bf9421f15f5d",
   "metadata": {},
   "outputs": [
    {
     "data": {
      "text/plain": [
       "dict_keys([2, 4, 5, 9, 12, 'a'])"
      ]
     },
     "execution_count": 123,
     "metadata": {},
     "output_type": "execute_result"
    }
   ],
   "source": [
    "d.keys()"
   ]
  },
  {
   "cell_type": "code",
   "execution_count": 124,
   "id": "7d4f1c2c-f7b9-490f-9d89-06b9d6bf48f6",
   "metadata": {},
   "outputs": [
    {
     "data": {
      "text/plain": [
       "dict_values([46, 'Pune', 788, 36, 47, 'apple'])"
      ]
     },
     "execution_count": 124,
     "metadata": {},
     "output_type": "execute_result"
    }
   ],
   "source": [
    "d.values()"
   ]
  },
  {
   "cell_type": "code",
   "execution_count": 125,
   "id": "8880911a-30c0-4d41-b048-d41ef934e220",
   "metadata": {},
   "outputs": [
    {
     "data": {
      "text/plain": [
       "dict_items([(2, 46), (4, 'Pune'), (5, 788), (9, 36), (12, 47), ('a', 'apple')])"
      ]
     },
     "execution_count": 125,
     "metadata": {},
     "output_type": "execute_result"
    }
   ],
   "source": [
    "d.items()"
   ]
  },
  {
   "cell_type": "code",
   "execution_count": null,
   "id": "31fbbacd-7057-4be8-951a-5feed43c3bb8",
   "metadata": {},
   "outputs": [],
   "source": []
  }
 ],
 "metadata": {
  "kernelspec": {
   "display_name": "Python 3 (ipykernel)",
   "language": "python",
   "name": "python3"
  },
  "language_info": {
   "codemirror_mode": {
    "name": "ipython",
    "version": 3
   },
   "file_extension": ".py",
   "mimetype": "text/x-python",
   "name": "python",
   "nbconvert_exporter": "python",
   "pygments_lexer": "ipython3",
   "version": "3.10.12"
  }
 },
 "nbformat": 4,
 "nbformat_minor": 5
}
