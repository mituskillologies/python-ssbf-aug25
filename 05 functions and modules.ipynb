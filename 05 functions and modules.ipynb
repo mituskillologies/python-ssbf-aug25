{
 "cells": [
  {
   "cell_type": "markdown",
   "id": "0df65fdf-d218-4910-9b71-8281c7042a3d",
   "metadata": {},
   "source": [
    "##### Simple function"
   ]
  },
  {
   "cell_type": "code",
   "execution_count": 3,
   "id": "447c531f-218a-457b-8e8a-fd39e26d26d3",
   "metadata": {},
   "outputs": [],
   "source": [
    "# function definition\n",
    "def show():\n",
    "    print(\"Hello World\")"
   ]
  },
  {
   "cell_type": "code",
   "execution_count": 4,
   "id": "05ee6d8c-9694-458c-a11b-ccd5c71bb854",
   "metadata": {},
   "outputs": [
    {
     "name": "stdout",
     "output_type": "stream",
     "text": [
      "Hello World\n"
     ]
    }
   ],
   "source": [
    "# function call\n",
    "show()"
   ]
  },
  {
   "cell_type": "code",
   "execution_count": 5,
   "id": "d36ad39d-2858-4eed-919b-1bd43fb77ac8",
   "metadata": {},
   "outputs": [
    {
     "name": "stdout",
     "output_type": "stream",
     "text": [
      "Hello World\n",
      "Hello World\n",
      "Hello World\n"
     ]
    }
   ],
   "source": [
    "show()\n",
    "show()\n",
    "show()"
   ]
  },
  {
   "cell_type": "code",
   "execution_count": 6,
   "id": "5d76c290-c622-476b-aa9e-9e157db6414c",
   "metadata": {},
   "outputs": [],
   "source": [
    "def show():\n",
    "    print(\"Hello World\")\n",
    "    print('Welcome to Pune')\n",
    "    print('I like Python Programming')"
   ]
  },
  {
   "cell_type": "code",
   "execution_count": 7,
   "id": "e9e2ecf1-0e12-4eb9-bec6-cdc60667a107",
   "metadata": {},
   "outputs": [
    {
     "name": "stdout",
     "output_type": "stream",
     "text": [
      "Hello World\n",
      "Welcome to Pune\n",
      "I like Python Programming\n"
     ]
    }
   ],
   "source": [
    "show()"
   ]
  },
  {
   "cell_type": "markdown",
   "id": "2f1daf01-43e9-4d4e-94fd-dd2acb8d1db6",
   "metadata": {},
   "source": [
    "##### Parameterized Function"
   ]
  },
  {
   "cell_type": "code",
   "execution_count": 10,
   "id": "96353b55-001f-46a3-b353-32a39d18bebf",
   "metadata": {},
   "outputs": [],
   "source": [
    "def show(name):\n",
    "    print(\"Hello\", name)"
   ]
  },
  {
   "cell_type": "code",
   "execution_count": 11,
   "id": "d6136361-ddb8-418d-8e71-6153ac363970",
   "metadata": {},
   "outputs": [
    {
     "name": "stdout",
     "output_type": "stream",
     "text": [
      "Hello Tushar\n"
     ]
    }
   ],
   "source": [
    "show(\"Tushar\")"
   ]
  },
  {
   "cell_type": "code",
   "execution_count": 12,
   "id": "443774cb-5979-4986-8ab8-614a28e29047",
   "metadata": {},
   "outputs": [],
   "source": [
    "def calc_interest(amount, rate):\n",
    "    interest = amount * rate / 100\n",
    "    print(\"Interest is:\", interest)"
   ]
  },
  {
   "cell_type": "code",
   "execution_count": 13,
   "id": "45283473-129d-4c93-b753-ca06047a3779",
   "metadata": {},
   "outputs": [
    {
     "name": "stdout",
     "output_type": "stream",
     "text": [
      "Interest is: 560.0\n"
     ]
    }
   ],
   "source": [
    "calc_interest(10000, 5.6)"
   ]
  },
  {
   "cell_type": "markdown",
   "id": "185e0e13-dfc0-4a0b-8daa-e9b33353fb2a",
   "metadata": {},
   "source": [
    "##### return statement"
   ]
  },
  {
   "cell_type": "code",
   "execution_count": 15,
   "id": "666bf152-7605-4d26-a0e5-d7074b775b29",
   "metadata": {},
   "outputs": [],
   "source": [
    "def calc_interest(amount, rate):\n",
    "    interest = amount * rate / 100\n",
    "    return interest"
   ]
  },
  {
   "cell_type": "code",
   "execution_count": 16,
   "id": "d65eea59-1487-4043-a455-b38ab5a16e26",
   "metadata": {},
   "outputs": [],
   "source": [
    "x= calc_interest(10000, 5.6)"
   ]
  },
  {
   "cell_type": "code",
   "execution_count": 17,
   "id": "c73b4835-557e-4625-9a4c-4b7ee5de2f4a",
   "metadata": {},
   "outputs": [
    {
     "data": {
      "text/plain": [
       "560.0"
      ]
     },
     "execution_count": 17,
     "metadata": {},
     "output_type": "execute_result"
    }
   ],
   "source": [
    "x"
   ]
  },
  {
   "cell_type": "code",
   "execution_count": 18,
   "id": "b23fd87d-57ca-42b3-ba60-67d7b1cefadb",
   "metadata": {},
   "outputs": [
    {
     "data": {
      "text/plain": [
       "370000.0"
      ]
     },
     "execution_count": 18,
     "metadata": {},
     "output_type": "execute_result"
    }
   ],
   "source": [
    "1000 * calc_interest(5000, 7.4)"
   ]
  },
  {
   "cell_type": "code",
   "execution_count": 19,
   "id": "e0ae08b3-7975-4900-81fb-71e4f319bbf4",
   "metadata": {},
   "outputs": [
    {
     "data": {
      "text/plain": [
       "370.0"
      ]
     },
     "execution_count": 19,
     "metadata": {},
     "output_type": "execute_result"
    }
   ],
   "source": [
    "calc_interest(5000, 7.4)"
   ]
  },
  {
   "cell_type": "markdown",
   "id": "05b2ae74-9d50-40b6-9949-5fc8326472b9",
   "metadata": {},
   "source": [
    "##### Default parameters"
   ]
  },
  {
   "cell_type": "code",
   "execution_count": 21,
   "id": "0f0565ef-de6f-4c9a-be1c-90850051c00f",
   "metadata": {},
   "outputs": [],
   "source": [
    "def gross_salary(basic=20000, da=10000, hra=5000):\n",
    "    gross = basic + da + hra\n",
    "    return gross"
   ]
  },
  {
   "cell_type": "code",
   "execution_count": 22,
   "id": "4a7132a5-a7e6-46c8-bb29-572f7d2bb59c",
   "metadata": {},
   "outputs": [
    {
     "data": {
      "text/plain": [
       "20000"
      ]
     },
     "execution_count": 22,
     "metadata": {},
     "output_type": "execute_result"
    }
   ],
   "source": [
    "gross_salary(15000, 2000, 3000)"
   ]
  },
  {
   "cell_type": "code",
   "execution_count": 23,
   "id": "18bb1866-be87-458d-b69d-3c49f28bf1fb",
   "metadata": {},
   "outputs": [
    {
     "data": {
      "text/plain": [
       "22000"
      ]
     },
     "execution_count": 23,
     "metadata": {},
     "output_type": "execute_result"
    }
   ],
   "source": [
    "gross_salary(15000, 2000)"
   ]
  },
  {
   "cell_type": "code",
   "execution_count": 24,
   "id": "09fc1ea7-db09-4cbb-9872-d80f4439b48d",
   "metadata": {},
   "outputs": [
    {
     "data": {
      "text/plain": [
       "30000"
      ]
     },
     "execution_count": 24,
     "metadata": {},
     "output_type": "execute_result"
    }
   ],
   "source": [
    "gross_salary(15000)"
   ]
  },
  {
   "cell_type": "code",
   "execution_count": 25,
   "id": "c9ddc1e8-2adc-4f12-bba9-a4c8d4053d00",
   "metadata": {},
   "outputs": [
    {
     "data": {
      "text/plain": [
       "35000"
      ]
     },
     "execution_count": 25,
     "metadata": {},
     "output_type": "execute_result"
    }
   ],
   "source": [
    "gross_salary()"
   ]
  },
  {
   "cell_type": "code",
   "execution_count": 26,
   "id": "90fc30aa-dcf9-4cec-ba48-01794ea428ca",
   "metadata": {},
   "outputs": [
    {
     "data": {
      "text/plain": [
       "33000"
      ]
     },
     "execution_count": 26,
     "metadata": {},
     "output_type": "execute_result"
    }
   ],
   "source": [
    "gross_salary(da=8000)"
   ]
  },
  {
   "cell_type": "markdown",
   "id": "a978ba06-ced2-43f5-b09a-870d5bfe5ddc",
   "metadata": {},
   "source": [
    "###### modules"
   ]
  },
  {
   "cell_type": "code",
   "execution_count": 28,
   "id": "3e96c656-822f-47e6-8afe-9308ac692740",
   "metadata": {},
   "outputs": [],
   "source": [
    "import math"
   ]
  },
  {
   "cell_type": "code",
   "execution_count": 29,
   "id": "32494831-47d5-459a-9813-6d4d5347d948",
   "metadata": {},
   "outputs": [
    {
     "data": {
      "text/plain": [
       "8.18535277187245"
      ]
     },
     "execution_count": 29,
     "metadata": {},
     "output_type": "execute_result"
    }
   ],
   "source": [
    "math.sqrt(67)"
   ]
  },
  {
   "cell_type": "code",
   "execution_count": 30,
   "id": "66b89e0c-3c45-4c78-b872-705f82562226",
   "metadata": {},
   "outputs": [
    {
     "data": {
      "text/plain": [
       "3.141592653589793"
      ]
     },
     "execution_count": 30,
     "metadata": {},
     "output_type": "execute_result"
    }
   ],
   "source": [
    "math.pi"
   ]
  },
  {
   "cell_type": "code",
   "execution_count": 31,
   "id": "7e748958-8374-4b05-a5b3-f55aa0f10751",
   "metadata": {},
   "outputs": [
    {
     "data": {
      "text/plain": [
       "2.718281828459045"
      ]
     },
     "execution_count": 31,
     "metadata": {},
     "output_type": "execute_result"
    }
   ],
   "source": [
    "math.e"
   ]
  },
  {
   "cell_type": "code",
   "execution_count": 32,
   "id": "e89220d1-3bce-4a6c-8fb9-df905568e86f",
   "metadata": {},
   "outputs": [
    {
     "data": {
      "text/plain": [
       "4.204692619390966"
      ]
     },
     "execution_count": 32,
     "metadata": {},
     "output_type": "execute_result"
    }
   ],
   "source": [
    "math.log(67)"
   ]
  },
  {
   "cell_type": "code",
   "execution_count": 33,
   "id": "4c162138-80ed-4102-ac56-76f3c0cda2ed",
   "metadata": {},
   "outputs": [
    {
     "data": {
      "text/plain": [
       "120"
      ]
     },
     "execution_count": 33,
     "metadata": {},
     "output_type": "execute_result"
    }
   ],
   "source": [
    "math.factorial(5)"
   ]
  },
  {
   "cell_type": "code",
   "execution_count": 34,
   "id": "42f3844d-7e07-4d50-beed-6bcf5f0ce581",
   "metadata": {},
   "outputs": [],
   "source": [
    "import math as m"
   ]
  },
  {
   "cell_type": "code",
   "execution_count": 35,
   "id": "97644220-bb4e-4473-a9c5-8686bdceec62",
   "metadata": {},
   "outputs": [
    {
     "data": {
      "text/plain": [
       "7.483314773547883"
      ]
     },
     "execution_count": 35,
     "metadata": {},
     "output_type": "execute_result"
    }
   ],
   "source": [
    "m.sqrt(56)"
   ]
  },
  {
   "cell_type": "code",
   "execution_count": 36,
   "id": "462f6ba8-130f-4a99-8112-808d4bdb14bd",
   "metadata": {},
   "outputs": [
    {
     "data": {
      "text/plain": [
       "3.141592653589793"
      ]
     },
     "execution_count": 36,
     "metadata": {},
     "output_type": "execute_result"
    }
   ],
   "source": [
    "m.pi"
   ]
  },
  {
   "cell_type": "code",
   "execution_count": 37,
   "id": "dd925cff-af39-4cf4-b328-9e179cf550e7",
   "metadata": {},
   "outputs": [],
   "source": [
    "# selective import \n",
    "from math import sqrt, pi"
   ]
  },
  {
   "cell_type": "code",
   "execution_count": 38,
   "id": "cb5c3d0a-8ae1-4e3f-8ee6-4b7048176fe9",
   "metadata": {},
   "outputs": [
    {
     "data": {
      "text/plain": [
       "8.18535277187245"
      ]
     },
     "execution_count": 38,
     "metadata": {},
     "output_type": "execute_result"
    }
   ],
   "source": [
    "sqrt(67)"
   ]
  },
  {
   "cell_type": "code",
   "execution_count": 39,
   "id": "877b519d-089b-49cb-9e41-6119187f8cf1",
   "metadata": {},
   "outputs": [
    {
     "data": {
      "text/plain": [
       "3.141592653589793"
      ]
     },
     "execution_count": 39,
     "metadata": {},
     "output_type": "execute_result"
    }
   ],
   "source": [
    "pi"
   ]
  },
  {
   "cell_type": "code",
   "execution_count": null,
   "id": "0a18d920-c05c-4bdf-aa58-1f5b1b721a3a",
   "metadata": {},
   "outputs": [],
   "source": []
  }
 ],
 "metadata": {
  "kernelspec": {
   "display_name": "Python 3 (ipykernel)",
   "language": "python",
   "name": "python3"
  },
  "language_info": {
   "codemirror_mode": {
    "name": "ipython",
    "version": 3
   },
   "file_extension": ".py",
   "mimetype": "text/x-python",
   "name": "python",
   "nbconvert_exporter": "python",
   "pygments_lexer": "ipython3",
   "version": "3.10.12"
  }
 },
 "nbformat": 4,
 "nbformat_minor": 5
}
