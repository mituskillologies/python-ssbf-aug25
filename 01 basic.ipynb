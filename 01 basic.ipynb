{
 "cells": [
  {
   "cell_type": "code",
   "execution_count": 1,
   "id": "2531dec2-e45d-42fe-ae5b-b436167abed4",
   "metadata": {},
   "outputs": [
    {
     "name": "stdout",
     "output_type": "stream",
     "text": [
      "Hello World\n"
     ]
    }
   ],
   "source": [
    "print(\"Hello World\")"
   ]
  },
  {
   "cell_type": "code",
   "execution_count": 2,
   "id": "33392b9f-c0ff-427a-84b2-24384e28e390",
   "metadata": {},
   "outputs": [],
   "source": [
    "num = 67\n",
    "value = 78.89"
   ]
  },
  {
   "cell_type": "code",
   "execution_count": 3,
   "id": "1d3b2f7a-edea-4a73-b791-9152efab21db",
   "metadata": {},
   "outputs": [
    {
     "name": "stdout",
     "output_type": "stream",
     "text": [
      "67 78.89\n"
     ]
    }
   ],
   "source": [
    "print(num, value)"
   ]
  },
  {
   "cell_type": "code",
   "execution_count": 4,
   "id": "15d03514-1513-4984-b5c4-a4d04335e3fa",
   "metadata": {},
   "outputs": [],
   "source": [
    "num_1 = 23\n",
    "num_2 = 19"
   ]
  },
  {
   "cell_type": "code",
   "execution_count": 5,
   "id": "b11d5b2b-f5d4-42a8-a36a-2a78049d5d90",
   "metadata": {},
   "outputs": [
    {
     "name": "stdout",
     "output_type": "stream",
     "text": [
      "23\n",
      "19\n"
     ]
    }
   ],
   "source": [
    "print(num_1)\n",
    "print(num_2)"
   ]
  },
  {
   "cell_type": "code",
   "execution_count": 6,
   "id": "0b07642b-4d2d-4279-ae87-243b90c2f494",
   "metadata": {},
   "outputs": [
    {
     "ename": "SyntaxError",
     "evalue": "invalid syntax (2659562960.py, line 1)",
     "output_type": "error",
     "traceback": [
      "\u001b[0;36m  Cell \u001b[0;32mIn[6], line 1\u001b[0;36m\u001b[0m\n\u001b[0;31m    pass = 67\u001b[0m\n\u001b[0m         ^\u001b[0m\n\u001b[0;31mSyntaxError\u001b[0m\u001b[0;31m:\u001b[0m invalid syntax\n"
     ]
    }
   ],
   "source": [
    "pass = 67"
   ]
  },
  {
   "cell_type": "code",
   "execution_count": 7,
   "id": "bf543c77-90b7-49e7-a39a-4300064f5dd3",
   "metadata": {},
   "outputs": [],
   "source": [
    "num1 = 56\n",
    "num2 = 45.81\n",
    "name = \"Tushar\""
   ]
  },
  {
   "cell_type": "code",
   "execution_count": 8,
   "id": "52b6f006-1dbc-4144-8a99-fef422ea47ef",
   "metadata": {},
   "outputs": [
    {
     "data": {
      "text/plain": [
       "int"
      ]
     },
     "execution_count": 8,
     "metadata": {},
     "output_type": "execute_result"
    }
   ],
   "source": [
    "type(num1)"
   ]
  },
  {
   "cell_type": "code",
   "execution_count": 9,
   "id": "b01116e6-f7d9-4dd4-892a-0de1a3a9d189",
   "metadata": {},
   "outputs": [
    {
     "data": {
      "text/plain": [
       "float"
      ]
     },
     "execution_count": 9,
     "metadata": {},
     "output_type": "execute_result"
    }
   ],
   "source": [
    "type(num2)"
   ]
  },
  {
   "cell_type": "code",
   "execution_count": 10,
   "id": "6ab7d239-ce4e-4326-9589-bd2b26b8e326",
   "metadata": {},
   "outputs": [
    {
     "data": {
      "text/plain": [
       "str"
      ]
     },
     "execution_count": 10,
     "metadata": {},
     "output_type": "execute_result"
    }
   ],
   "source": [
    "type(name)"
   ]
  },
  {
   "cell_type": "code",
   "execution_count": 11,
   "id": "61a523bc-d336-4f5a-be3d-0c42fb8471a5",
   "metadata": {},
   "outputs": [
    {
     "data": {
      "text/plain": [
       "56"
      ]
     },
     "execution_count": 11,
     "metadata": {},
     "output_type": "execute_result"
    }
   ],
   "source": [
    "num1"
   ]
  },
  {
   "cell_type": "code",
   "execution_count": 12,
   "id": "5fc719e5-5dd2-498f-a71e-957cf5bcf484",
   "metadata": {},
   "outputs": [],
   "source": [
    "num = 4857576534867653478698748545345895609876345869857"
   ]
  },
  {
   "cell_type": "code",
   "execution_count": 13,
   "id": "251e84db-eb6e-459a-a751-8a0d44328e11",
   "metadata": {},
   "outputs": [
    {
     "data": {
      "text/plain": [
       "4857576534867653478698748545345895609876345869857"
      ]
     },
     "execution_count": 13,
     "metadata": {},
     "output_type": "execute_result"
    }
   ],
   "source": [
    "num"
   ]
  },
  {
   "cell_type": "code",
   "execution_count": 14,
   "id": "814fd0e2-4832-40b1-a3f2-eb9f33c35a5c",
   "metadata": {},
   "outputs": [],
   "source": [
    "num = 57456 ** 234"
   ]
  },
  {
   "cell_type": "code",
   "execution_count": 15,
   "id": "97ac6e03-cea8-42cd-add9-69099a451f01",
   "metadata": {},
   "outputs": [
    {
     "data": {
      "text/plain": [
       "4835938186095628856728126852165097320704936225210670112837779066805587322093562908528439314360123019039039366903798335160949839702041586546983425301996379551769501311415121519253668394037874184233026557970285629999902750423253294855749587754980569577037382759949567513223590972439458926373932140754648623967718275426215903211475450750588326562120025584973588381314122297544995230806680947243085827276818113430825983296991589577876111385789077470093013989924888964604690323113049212946081958276349721098441437208965818592126533542114650965886678019849705044880021498622117838450020828300691065685307917444756213470190445398637569202577411628358945741222090315430335382130123884613305294079494081473976166142856981461283316190279030305771383661833864966877848983044700495678387836282184614096333551310334746889962737410061902241805796052536364394936620902840253900167960997732835126485380019552966027671220364092991219881934417574018521172351601208111118220568889291336315259038810669941672900642396827739133886632574333328208439571409156770132339715690656419618891330896288539840962337733660743952775426893724778496"
      ]
     },
     "execution_count": 15,
     "metadata": {},
     "output_type": "execute_result"
    }
   ],
   "source": [
    "num"
   ]
  },
  {
   "cell_type": "code",
   "execution_count": 16,
   "id": "dfb3dc67-3e97-4ee3-963f-676c24d0f182",
   "metadata": {},
   "outputs": [],
   "source": [
    "num2 = 5756.5123e10"
   ]
  },
  {
   "cell_type": "code",
   "execution_count": 17,
   "id": "87566dd5-4dfa-47d2-8c1a-72cbd7b4b255",
   "metadata": {},
   "outputs": [
    {
     "data": {
      "text/plain": [
       "57565123000000.0"
      ]
     },
     "execution_count": 17,
     "metadata": {},
     "output_type": "execute_result"
    }
   ],
   "source": [
    "num2"
   ]
  },
  {
   "cell_type": "code",
   "execution_count": 18,
   "id": "e5f12405-2933-4dfc-b4b9-eb327e104569",
   "metadata": {},
   "outputs": [],
   "source": [
    "x = 56e1234"
   ]
  },
  {
   "cell_type": "code",
   "execution_count": 19,
   "id": "5f9510ef-3b6d-42b3-b397-edadabbc4079",
   "metadata": {},
   "outputs": [
    {
     "data": {
      "text/plain": [
       "inf"
      ]
     },
     "execution_count": 19,
     "metadata": {},
     "output_type": "execute_result"
    }
   ],
   "source": [
    "x"
   ]
  },
  {
   "cell_type": "code",
   "execution_count": 20,
   "id": "3461edf7-5928-4853-9515-8076b3c3f28a",
   "metadata": {},
   "outputs": [
    {
     "name": "stdout",
     "output_type": "stream",
     "text": [
      "Tushar\n"
     ]
    }
   ],
   "source": [
    "name = \"Tushar\"\n",
    "print(name)"
   ]
  },
  {
   "cell_type": "code",
   "execution_count": 21,
   "id": "116012b1-98f9-4970-ad19-17decdfa9b85",
   "metadata": {},
   "outputs": [
    {
     "name": "stdout",
     "output_type": "stream",
     "text": [
      "Tushar\n"
     ]
    }
   ],
   "source": [
    "name = 'Tushar'\n",
    "print(name)"
   ]
  },
  {
   "cell_type": "code",
   "execution_count": 22,
   "id": "edafebc3-cec3-4573-9333-18da7671e11f",
   "metadata": {},
   "outputs": [
    {
     "data": {
      "text/plain": [
       "'Tushar@123'"
      ]
     },
     "execution_count": 22,
     "metadata": {},
     "output_type": "execute_result"
    }
   ],
   "source": [
    "name = \"Tushar@123\"\n",
    "name"
   ]
  },
  {
   "cell_type": "code",
   "execution_count": 23,
   "id": "629b2630-eaed-4860-93b2-ce08d9212799",
   "metadata": {},
   "outputs": [
    {
     "name": "stdout",
     "output_type": "stream",
     "text": [
      "I like to code in Python Programming!\n"
     ]
    }
   ],
   "source": [
    "print(\"I like to code in Python Programming!\")"
   ]
  },
  {
   "cell_type": "code",
   "execution_count": 24,
   "id": "1cea29cb-4a77-4619-90b6-f3747f7acc75",
   "metadata": {},
   "outputs": [
    {
     "name": "stdout",
     "output_type": "stream",
     "text": [
      "I like to code in 'Python' Programming!\n"
     ]
    }
   ],
   "source": [
    "print(\"I like to code in 'Python' Programming!\")"
   ]
  },
  {
   "cell_type": "code",
   "execution_count": 25,
   "id": "c37d3df5-72a4-4618-a042-958be32ffb65",
   "metadata": {},
   "outputs": [
    {
     "name": "stdout",
     "output_type": "stream",
     "text": [
      "I like to code in \"Python\" Programming!\n"
     ]
    }
   ],
   "source": [
    "print('I like to code in \"Python\" Programming!')"
   ]
  },
  {
   "cell_type": "code",
   "execution_count": 26,
   "id": "0f9e6326-25de-442f-bf4f-c2382c101665",
   "metadata": {},
   "outputs": [],
   "source": [
    "print = 45"
   ]
  },
  {
   "cell_type": "code",
   "execution_count": 27,
   "id": "ffcda939-3e7e-4597-891f-abba5b5edc55",
   "metadata": {},
   "outputs": [
    {
     "ename": "TypeError",
     "evalue": "'int' object is not callable",
     "output_type": "error",
     "traceback": [
      "\u001b[0;31m---------------------------------------------------------------------------\u001b[0m",
      "\u001b[0;31mTypeError\u001b[0m                                 Traceback (most recent call last)",
      "Cell \u001b[0;32mIn[27], line 1\u001b[0m\n\u001b[0;32m----> 1\u001b[0m \u001b[38;5;28;43mprint\u001b[39;49m\u001b[43m(\u001b[49m\u001b[38;5;124;43m\"\u001b[39;49m\u001b[38;5;124;43mI like to code in Python Programming!\u001b[39;49m\u001b[38;5;124;43m\"\u001b[39;49m\u001b[43m)\u001b[49m\n",
      "\u001b[0;31mTypeError\u001b[0m: 'int' object is not callable"
     ]
    }
   ],
   "source": [
    "print(\"I like to code in Python Programming!\")"
   ]
  },
  {
   "cell_type": "code",
   "execution_count": 28,
   "id": "95f7b31e-3e16-4376-84a8-421bf1cf8c9a",
   "metadata": {},
   "outputs": [],
   "source": [
    "del print"
   ]
  },
  {
   "cell_type": "code",
   "execution_count": 29,
   "id": "7878dcd3-c448-4a5a-93a9-d70d5250204d",
   "metadata": {},
   "outputs": [
    {
     "name": "stdout",
     "output_type": "stream",
     "text": [
      "I like to code in Python Programming!\n"
     ]
    }
   ],
   "source": [
    "print(\"I like to code in Python Programming!\")"
   ]
  },
  {
   "cell_type": "code",
   "execution_count": 31,
   "id": "ff8d6204-131f-4d15-a10e-83286ee94728",
   "metadata": {},
   "outputs": [],
   "source": [
    "del num"
   ]
  },
  {
   "cell_type": "code",
   "execution_count": 34,
   "id": "ffde2eef-8b71-4f4e-896a-cc50bde90b8a",
   "metadata": {},
   "outputs": [
    {
     "name": "stdout",
     "output_type": "stream",
     "text": [
      "Tushar Pune\n"
     ]
    }
   ],
   "source": [
    "name1 = \"Tushar\"\n",
    "name2 = 'Pune'\n",
    "result = name1 + \" \" + name2\n",
    "print(result)"
   ]
  },
  {
   "cell_type": "code",
   "execution_count": 35,
   "id": "f1b5fb8a-edc2-4a66-bd5a-ee99772d0ce9",
   "metadata": {},
   "outputs": [
    {
     "data": {
      "text/plain": [
       "'TusharTusharTusharTusharTusharTusharTusharTusharTusharTushar'"
      ]
     },
     "execution_count": 35,
     "metadata": {},
     "output_type": "execute_result"
    }
   ],
   "source": [
    "name1 * 10"
   ]
  },
  {
   "cell_type": "code",
   "execution_count": 37,
   "id": "ae0016cc-5a12-4f7e-9257-a0b6e2d78290",
   "metadata": {},
   "outputs": [
    {
     "name": "stdout",
     "output_type": "stream",
     "text": [
      "Addition is: 110\n"
     ]
    }
   ],
   "source": [
    "# Program: Addition of two numbers\n",
    "num1 = 37\n",
    "num2 = 73\n",
    "add = num1 + num2  # addition \n",
    "print(\"Addition is:\", add)"
   ]
  },
  {
   "cell_type": "markdown",
   "id": "21730cec-f87d-4785-b59c-c502cd3b7f3f",
   "metadata": {},
   "source": [
    "##### Programming Basics"
   ]
  },
  {
   "cell_type": "code",
   "execution_count": 39,
   "id": "84a15ce7-4015-4344-8f18-90bb7cbf9faf",
   "metadata": {},
   "outputs": [],
   "source": [
    "x, y, z = 34, 12, 67"
   ]
  },
  {
   "cell_type": "code",
   "execution_count": 40,
   "id": "e6277ef4-aec0-4bcb-bcba-ff6aea0bfed8",
   "metadata": {},
   "outputs": [
    {
     "data": {
      "text/plain": [
       "34"
      ]
     },
     "execution_count": 40,
     "metadata": {},
     "output_type": "execute_result"
    }
   ],
   "source": [
    "x"
   ]
  },
  {
   "cell_type": "code",
   "execution_count": 41,
   "id": "456aaf58-5969-4046-bba2-cfabdcc4b7aa",
   "metadata": {},
   "outputs": [
    {
     "data": {
      "text/plain": [
       "12"
      ]
     },
     "execution_count": 41,
     "metadata": {},
     "output_type": "execute_result"
    }
   ],
   "source": [
    "y"
   ]
  },
  {
   "cell_type": "code",
   "execution_count": 42,
   "id": "96b775b5-4cbd-406a-b4ee-c915f6fc9b96",
   "metadata": {},
   "outputs": [
    {
     "data": {
      "text/plain": [
       "67"
      ]
     },
     "execution_count": 42,
     "metadata": {},
     "output_type": "execute_result"
    }
   ],
   "source": [
    "z"
   ]
  },
  {
   "cell_type": "code",
   "execution_count": 43,
   "id": "10a3a513-4965-427a-8f29-22a04078db2b",
   "metadata": {},
   "outputs": [],
   "source": [
    "a, b, c = 45, 78.90, \"Pune\""
   ]
  },
  {
   "cell_type": "code",
   "execution_count": 44,
   "id": "45a8f162-9b61-4356-9c0e-ea59de495fcc",
   "metadata": {},
   "outputs": [
    {
     "data": {
      "text/plain": [
       "45"
      ]
     },
     "execution_count": 44,
     "metadata": {},
     "output_type": "execute_result"
    }
   ],
   "source": [
    "a"
   ]
  },
  {
   "cell_type": "code",
   "execution_count": 45,
   "id": "d0179503-4859-4de1-8c84-8d166664e130",
   "metadata": {},
   "outputs": [
    {
     "data": {
      "text/plain": [
       "78.9"
      ]
     },
     "execution_count": 45,
     "metadata": {},
     "output_type": "execute_result"
    }
   ],
   "source": [
    "b"
   ]
  },
  {
   "cell_type": "code",
   "execution_count": 46,
   "id": "87108698-1795-419d-95ad-f306f419721d",
   "metadata": {},
   "outputs": [
    {
     "data": {
      "text/plain": [
       "'Pune'"
      ]
     },
     "execution_count": 46,
     "metadata": {},
     "output_type": "execute_result"
    }
   ],
   "source": [
    "c"
   ]
  },
  {
   "cell_type": "code",
   "execution_count": 47,
   "id": "6c96c0b1-e30a-4fcd-acfd-d2dfa747cb9f",
   "metadata": {},
   "outputs": [],
   "source": [
    "x = y = z = 67"
   ]
  },
  {
   "cell_type": "code",
   "execution_count": 48,
   "id": "16cec162-b6a2-451b-8681-58080e8c6b9a",
   "metadata": {},
   "outputs": [
    {
     "data": {
      "text/plain": [
       "67"
      ]
     },
     "execution_count": 48,
     "metadata": {},
     "output_type": "execute_result"
    }
   ],
   "source": [
    "x"
   ]
  },
  {
   "cell_type": "code",
   "execution_count": 49,
   "id": "b67d738e-bdd8-4167-9965-8c0c7458454f",
   "metadata": {},
   "outputs": [
    {
     "data": {
      "text/plain": [
       "67"
      ]
     },
     "execution_count": 49,
     "metadata": {},
     "output_type": "execute_result"
    }
   ],
   "source": [
    "y"
   ]
  },
  {
   "cell_type": "code",
   "execution_count": 50,
   "id": "f33a06ba-28b4-4b04-a2f1-7a31c8c09fa8",
   "metadata": {},
   "outputs": [
    {
     "data": {
      "text/plain": [
       "67"
      ]
     },
     "execution_count": 50,
     "metadata": {},
     "output_type": "execute_result"
    }
   ],
   "source": [
    "z"
   ]
  },
  {
   "cell_type": "code",
   "execution_count": 51,
   "id": "196e0860-c0a5-4088-b272-8c08310bafb6",
   "metadata": {},
   "outputs": [
    {
     "name": "stdout",
     "output_type": "stream",
     "text": [
      "Addition is: 110\n"
     ]
    }
   ],
   "source": [
    "# Program: Addition of two numbers\n",
    "num1 = 37;  num2 = 73;  add = num1 + num2; print(\"Addition is:\", add)"
   ]
  },
  {
   "cell_type": "markdown",
   "id": "9730a5d5-2844-4a52-be28-185a7f18eff1",
   "metadata": {},
   "source": [
    "##### print function"
   ]
  },
  {
   "cell_type": "code",
   "execution_count": 52,
   "id": "a307796c-2d29-422c-a62b-862818da0d64",
   "metadata": {},
   "outputs": [],
   "source": [
    "name = 'Tushar'\n",
    "marks = 67.89"
   ]
  },
  {
   "cell_type": "code",
   "execution_count": 53,
   "id": "02ffea28-4d73-41f3-9ced-e65f73378ab3",
   "metadata": {},
   "outputs": [
    {
     "name": "stdout",
     "output_type": "stream",
     "text": [
      "My name is Tushar and marks are 67.89\n"
     ]
    }
   ],
   "source": [
    "print(\"My name is\",name,\"and marks are\",marks)"
   ]
  },
  {
   "cell_type": "code",
   "execution_count": 55,
   "id": "40a7e2f7-f77b-4e18-b889-6349d9c016e5",
   "metadata": {},
   "outputs": [
    {
     "name": "stdout",
     "output_type": "stream",
     "text": [
      "My name is Tushar and marks are 67.890000\n"
     ]
    }
   ],
   "source": [
    "print(\"My name is %s and marks are %f\" %(name,marks))"
   ]
  },
  {
   "cell_type": "code",
   "execution_count": 56,
   "id": "555e9da5-78dc-4214-88a6-49a62b8f45ec",
   "metadata": {},
   "outputs": [
    {
     "name": "stdout",
     "output_type": "stream",
     "text": [
      "My name is Tushar and marks are 67\n"
     ]
    }
   ],
   "source": [
    "print(\"My name is %s and marks are %i\" %(name,marks))"
   ]
  },
  {
   "cell_type": "code",
   "execution_count": 57,
   "id": "63080b45-a6ec-4087-89f7-5713e5dbc665",
   "metadata": {},
   "outputs": [
    {
     "name": "stdout",
     "output_type": "stream",
     "text": [
      "My name is Tushar and marks are 67.9\n"
     ]
    }
   ],
   "source": [
    "print(\"My name is %s and marks are %.1f\" %(name,marks))"
   ]
  },
  {
   "cell_type": "markdown",
   "id": "c92be4bd-23b5-4aa4-bcf7-60fdf77a2989",
   "metadata": {},
   "source": [
    "##### Escape Sequences"
   ]
  },
  {
   "cell_type": "code",
   "execution_count": 60,
   "id": "5a73f853-3101-45d5-b88d-4e2951242ace",
   "metadata": {},
   "outputs": [
    {
     "name": "stdout",
     "output_type": "stream",
     "text": [
      "Hello World\n"
     ]
    }
   ],
   "source": [
    "print(\"Hello World\")"
   ]
  },
  {
   "cell_type": "code",
   "execution_count": 61,
   "id": "f466a2f1-5a45-4f63-ad72-cd7226fe9d50",
   "metadata": {},
   "outputs": [
    {
     "name": "stdout",
     "output_type": "stream",
     "text": [
      "Hello\n",
      "World\n"
     ]
    }
   ],
   "source": [
    "print(\"Hello\\nWorld\")"
   ]
  },
  {
   "cell_type": "code",
   "execution_count": 62,
   "id": "485a5f55-958b-44d3-92f6-c0e7196edd1a",
   "metadata": {},
   "outputs": [
    {
     "name": "stdout",
     "output_type": "stream",
     "text": [
      "Hello\tWorld\n"
     ]
    }
   ],
   "source": [
    "print(\"Hello\\tWorld\")"
   ]
  },
  {
   "cell_type": "code",
   "execution_count": 63,
   "id": "2ff7f66a-5337-4c1f-a300-92eb1f71c49c",
   "metadata": {},
   "outputs": [
    {
     "name": "stdout",
     "output_type": "stream",
     "text": [
      "HellWorld\n"
     ]
    }
   ],
   "source": [
    "print(\"Hello\\bWorld\")"
   ]
  },
  {
   "cell_type": "code",
   "execution_count": 64,
   "id": "658d85c7-976c-47f6-b1a5-31f476081cb2",
   "metadata": {},
   "outputs": [
    {
     "name": "stdout",
     "output_type": "stream",
     "text": [
      "Hello \"World\n"
     ]
    }
   ],
   "source": [
    "print(\"Hello \\\"World\")"
   ]
  },
  {
   "cell_type": "code",
   "execution_count": 65,
   "id": "c7f0a025-ad28-4a16-bfa5-4742d47af035",
   "metadata": {},
   "outputs": [
    {
     "name": "stdout",
     "output_type": "stream",
     "text": [
      "Hello\\World\n"
     ]
    }
   ],
   "source": [
    "print(\"Hello\\\\World\")"
   ]
  },
  {
   "cell_type": "markdown",
   "id": "66592aaa-4e5d-42d6-b75c-408d11998b31",
   "metadata": {},
   "source": [
    "##### Arithmetic Operators"
   ]
  },
  {
   "cell_type": "code",
   "execution_count": 67,
   "id": "cc687949-790d-49c9-92cd-8f402ada45fd",
   "metadata": {},
   "outputs": [],
   "source": [
    "num1 = 67\n",
    "num2 = 19"
   ]
  },
  {
   "cell_type": "code",
   "execution_count": 68,
   "id": "1706ac18-f510-410b-8062-e1e94dae70b5",
   "metadata": {},
   "outputs": [],
   "source": [
    "add = num1 + num2"
   ]
  },
  {
   "cell_type": "code",
   "execution_count": 70,
   "id": "692273d4-ea09-4ee8-8381-4750a6ef6679",
   "metadata": {},
   "outputs": [
    {
     "name": "stdout",
     "output_type": "stream",
     "text": [
      "Addition is: 86\n",
      "Subtraction is: 48\n",
      "Multiplication is: 1273\n",
      "Division is: 3.526315789473684\n",
      "Floor Division is: 3\n",
      "Remainder is: 10\n",
      "Exponentiation : 49593099428404263766544428188098203\n"
     ]
    }
   ],
   "source": [
    "print(\"Addition is:\", add)\n",
    "print(\"Subtraction is:\", num1 - num2)\n",
    "print(\"Multiplication is:\", num1 * num2)\n",
    "print(\"Division is:\", num1 / num2)\n",
    "print(\"Floor Division is:\", num1 // num2)\n",
    "print(\"Remainder is:\", num1 % num2)  # modulo division\n",
    "print(\"Exponentiation :\", num1 ** num2)"
   ]
  },
  {
   "cell_type": "markdown",
   "id": "ac198527-24e6-4918-8781-e1fd3ff1afed",
   "metadata": {},
   "source": [
    "##### Assignment Operators"
   ]
  },
  {
   "cell_type": "code",
   "execution_count": 72,
   "id": "b09d1a93-457e-495d-8b11-c2566e3d29be",
   "metadata": {},
   "outputs": [],
   "source": [
    "num1 = 67\n",
    "num2 = 19"
   ]
  },
  {
   "cell_type": "code",
   "execution_count": 73,
   "id": "2390d7b9-17b3-4ed7-95c2-e4dd8eb58d88",
   "metadata": {},
   "outputs": [
    {
     "name": "stdout",
     "output_type": "stream",
     "text": [
      "68\n"
     ]
    }
   ],
   "source": [
    "num1 += 1   # num1 = num1 + 1\n",
    "print(num1)"
   ]
  },
  {
   "cell_type": "code",
   "execution_count": 74,
   "id": "cdfc8b4e-5c8b-4dfe-a19c-50236ddd2edf",
   "metadata": {},
   "outputs": [
    {
     "data": {
      "text/plain": [
       "15"
      ]
     },
     "execution_count": 74,
     "metadata": {},
     "output_type": "execute_result"
    }
   ],
   "source": [
    "num2 -= 4\n",
    "num2"
   ]
  },
  {
   "cell_type": "markdown",
   "id": "f4675539-d6fa-4066-813d-66d3bac473fd",
   "metadata": {},
   "source": [
    "##### Relational Operators"
   ]
  },
  {
   "cell_type": "code",
   "execution_count": 83,
   "id": "7a9d1fd8-8244-421f-a76e-6f34719b6d83",
   "metadata": {},
   "outputs": [],
   "source": [
    "num1 = 67\n",
    "num2 = 19"
   ]
  },
  {
   "cell_type": "code",
   "execution_count": 84,
   "id": "920b126a-ee7d-42f5-bac1-4bf243acc05d",
   "metadata": {},
   "outputs": [
    {
     "data": {
      "text/plain": [
       "True"
      ]
     },
     "execution_count": 84,
     "metadata": {},
     "output_type": "execute_result"
    }
   ],
   "source": [
    "num1 > num2"
   ]
  },
  {
   "cell_type": "code",
   "execution_count": 85,
   "id": "dbf43dcc-8ffa-4885-ae0a-c786f5a219da",
   "metadata": {},
   "outputs": [
    {
     "data": {
      "text/plain": [
       "True"
      ]
     },
     "execution_count": 85,
     "metadata": {},
     "output_type": "execute_result"
    }
   ],
   "source": [
    "num1 >= num2  # greater than or equal to"
   ]
  },
  {
   "cell_type": "code",
   "execution_count": 86,
   "id": "4ca56646-07d3-4b83-8da5-e8d39451a30b",
   "metadata": {},
   "outputs": [
    {
     "data": {
      "text/plain": [
       "False"
      ]
     },
     "execution_count": 86,
     "metadata": {},
     "output_type": "execute_result"
    }
   ],
   "source": [
    "num1 < num2"
   ]
  },
  {
   "cell_type": "code",
   "execution_count": 87,
   "id": "b1c7a91b-2c8e-4b03-905f-4be16926db75",
   "metadata": {},
   "outputs": [
    {
     "data": {
      "text/plain": [
       "False"
      ]
     },
     "execution_count": 87,
     "metadata": {},
     "output_type": "execute_result"
    }
   ],
   "source": [
    "num1 <= num2"
   ]
  },
  {
   "cell_type": "code",
   "execution_count": 88,
   "id": "645401ca-7593-4bcc-80bc-cb387a172119",
   "metadata": {},
   "outputs": [
    {
     "data": {
      "text/plain": [
       "False"
      ]
     },
     "execution_count": 88,
     "metadata": {},
     "output_type": "execute_result"
    }
   ],
   "source": [
    "num1 == num2"
   ]
  },
  {
   "cell_type": "code",
   "execution_count": 89,
   "id": "b060ff81-7274-4202-b421-ad3428672ddf",
   "metadata": {},
   "outputs": [
    {
     "data": {
      "text/plain": [
       "True"
      ]
     },
     "execution_count": 89,
     "metadata": {},
     "output_type": "execute_result"
    }
   ],
   "source": [
    "num1 != num2"
   ]
  },
  {
   "cell_type": "markdown",
   "id": "3bda6c97-0b24-4ea4-94de-a94194087915",
   "metadata": {},
   "source": [
    "##### Logical Operators"
   ]
  },
  {
   "cell_type": "code",
   "execution_count": 92,
   "id": "2d716de0-910c-4b66-8d64-2024973be9a2",
   "metadata": {},
   "outputs": [
    {
     "data": {
      "text/plain": [
       "True"
      ]
     },
     "execution_count": 92,
     "metadata": {},
     "output_type": "execute_result"
    }
   ],
   "source": [
    "num1 > num2 and num1 < 100"
   ]
  },
  {
   "cell_type": "code",
   "execution_count": 93,
   "id": "8578e4b1-5f0c-41f7-b59f-312bb7cee69c",
   "metadata": {},
   "outputs": [
    {
     "data": {
      "text/plain": [
       "True"
      ]
     },
     "execution_count": 93,
     "metadata": {},
     "output_type": "execute_result"
    }
   ],
   "source": [
    "num1 > num2 or num1 > 100"
   ]
  },
  {
   "cell_type": "code",
   "execution_count": 94,
   "id": "8781df47-d185-4d23-bb76-cb67b31726c3",
   "metadata": {},
   "outputs": [
    {
     "data": {
      "text/plain": [
       "False"
      ]
     },
     "execution_count": 94,
     "metadata": {},
     "output_type": "execute_result"
    }
   ],
   "source": [
    "not num1 > num2"
   ]
  },
  {
   "cell_type": "markdown",
   "id": "32a68f67-eedf-4cac-9588-f3fb7fde19f7",
   "metadata": {},
   "source": [
    "##### Membership Selection Operators"
   ]
  },
  {
   "cell_type": "code",
   "execution_count": 96,
   "id": "05ba281b-74b0-4057-9bef-139ef337985e",
   "metadata": {},
   "outputs": [],
   "source": [
    "name = \"Pune\""
   ]
  },
  {
   "cell_type": "code",
   "execution_count": 98,
   "id": "2817fd36-3821-48e8-9a86-5df78b997484",
   "metadata": {},
   "outputs": [
    {
     "data": {
      "text/plain": [
       "True"
      ]
     },
     "execution_count": 98,
     "metadata": {},
     "output_type": "execute_result"
    }
   ],
   "source": [
    "'n' in name"
   ]
  },
  {
   "cell_type": "code",
   "execution_count": 99,
   "id": "5292e0fd-b96f-4163-bf85-c2dc38dc9554",
   "metadata": {},
   "outputs": [
    {
     "data": {
      "text/plain": [
       "False"
      ]
     },
     "execution_count": 99,
     "metadata": {},
     "output_type": "execute_result"
    }
   ],
   "source": [
    "'ne' not in name"
   ]
  },
  {
   "cell_type": "code",
   "execution_count": 100,
   "id": "535d84f1-8ff7-445a-b25f-7f9618f4d587",
   "metadata": {},
   "outputs": [],
   "source": [
    "x = [67, 23, 86, 51, 94]"
   ]
  },
  {
   "cell_type": "code",
   "execution_count": 102,
   "id": "1da511e1-16b6-472f-b0d0-a0611239403c",
   "metadata": {},
   "outputs": [
    {
     "data": {
      "text/plain": [
       "False"
      ]
     },
     "execution_count": 102,
     "metadata": {},
     "output_type": "execute_result"
    }
   ],
   "source": [
    "33 in x"
   ]
  },
  {
   "cell_type": "code",
   "execution_count": 103,
   "id": "7563a899-7b4d-4a65-8a0f-9d99b80950fe",
   "metadata": {},
   "outputs": [],
   "source": [
    "data = 5 * 6 ** 2 + 20"
   ]
  },
  {
   "cell_type": "code",
   "execution_count": 104,
   "id": "a6fa68d7-151a-4ed1-bd7c-d7fc195c37e7",
   "metadata": {},
   "outputs": [
    {
     "data": {
      "text/plain": [
       "200"
      ]
     },
     "execution_count": 104,
     "metadata": {},
     "output_type": "execute_result"
    }
   ],
   "source": [
    "data"
   ]
  },
  {
   "cell_type": "code",
   "execution_count": 105,
   "id": "cfa30013-db2c-478e-bccb-629f4038a7cd",
   "metadata": {},
   "outputs": [],
   "source": [
    "b = True"
   ]
  },
  {
   "cell_type": "code",
   "execution_count": 106,
   "id": "695bc3a0-d241-4bc0-933d-6ee662daaf68",
   "metadata": {},
   "outputs": [
    {
     "data": {
      "text/plain": [
       "bool"
      ]
     },
     "execution_count": 106,
     "metadata": {},
     "output_type": "execute_result"
    }
   ],
   "source": [
    "type(b)"
   ]
  },
  {
   "cell_type": "code",
   "execution_count": 107,
   "id": "6537f8b7-455d-458c-a051-3a7b2981a380",
   "metadata": {},
   "outputs": [],
   "source": [
    "num = None"
   ]
  },
  {
   "cell_type": "code",
   "execution_count": 108,
   "id": "d101fc39-2a15-48b7-b4ec-ed993e41fb85",
   "metadata": {},
   "outputs": [
    {
     "data": {
      "text/plain": [
       "NoneType"
      ]
     },
     "execution_count": 108,
     "metadata": {},
     "output_type": "execute_result"
    }
   ],
   "source": [
    "type(num)"
   ]
  },
  {
   "cell_type": "code",
   "execution_count": 109,
   "id": "d9c03da1-a68c-495d-9eb3-e195ad3650d5",
   "metadata": {},
   "outputs": [],
   "source": [
    "num"
   ]
  },
  {
   "cell_type": "markdown",
   "id": "67cdada8-a064-4f01-89c2-0f480f0d1821",
   "metadata": {},
   "source": [
    "##### Type Casting / Type Conversion"
   ]
  },
  {
   "cell_type": "code",
   "execution_count": 111,
   "id": "e82da147-4dc2-4a33-afab-aa177ed39b09",
   "metadata": {},
   "outputs": [],
   "source": [
    "num1 = 45\n",
    "num2 = '32'"
   ]
  },
  {
   "cell_type": "code",
   "execution_count": 113,
   "id": "3bfed180-631c-4c31-89ca-6a1a52b4b373",
   "metadata": {},
   "outputs": [],
   "source": [
    "add = num1 + int(num2)"
   ]
  },
  {
   "cell_type": "code",
   "execution_count": 114,
   "id": "30c5d2cd-1b7e-4d8b-8777-c4bbbded5984",
   "metadata": {},
   "outputs": [
    {
     "data": {
      "text/plain": [
       "77"
      ]
     },
     "execution_count": 114,
     "metadata": {},
     "output_type": "execute_result"
    }
   ],
   "source": [
    "add"
   ]
  },
  {
   "cell_type": "code",
   "execution_count": 115,
   "id": "2f2f0f40-0c86-4419-938d-757c7e65e421",
   "metadata": {},
   "outputs": [],
   "source": [
    "name = 'Pune'\n",
    "age = 45"
   ]
  },
  {
   "cell_type": "code",
   "execution_count": 116,
   "id": "65896209-5e7f-4686-b68b-e7863d64f1bd",
   "metadata": {},
   "outputs": [
    {
     "ename": "TypeError",
     "evalue": "can only concatenate str (not \"int\") to str",
     "output_type": "error",
     "traceback": [
      "\u001b[0;31m---------------------------------------------------------------------------\u001b[0m",
      "\u001b[0;31mTypeError\u001b[0m                                 Traceback (most recent call last)",
      "Cell \u001b[0;32mIn[116], line 1\u001b[0m\n\u001b[0;32m----> 1\u001b[0m password \u001b[38;5;241m=\u001b[39m \u001b[43mname\u001b[49m\u001b[43m \u001b[49m\u001b[38;5;241;43m+\u001b[39;49m\u001b[43m \u001b[49m\u001b[43mage\u001b[49m\n",
      "\u001b[0;31mTypeError\u001b[0m: can only concatenate str (not \"int\") to str"
     ]
    }
   ],
   "source": [
    "password = name + age"
   ]
  },
  {
   "cell_type": "code",
   "execution_count": 117,
   "id": "cabd1175-9901-42b8-8040-0244b9e82206",
   "metadata": {},
   "outputs": [],
   "source": [
    "password = name + str(age)"
   ]
  },
  {
   "cell_type": "code",
   "execution_count": 118,
   "id": "0c2577e2-8bc4-4e0d-a7b4-30cfd7400305",
   "metadata": {},
   "outputs": [
    {
     "data": {
      "text/plain": [
       "'Pune45'"
      ]
     },
     "execution_count": 118,
     "metadata": {},
     "output_type": "execute_result"
    }
   ],
   "source": [
    "password"
   ]
  },
  {
   "cell_type": "markdown",
   "id": "ef9b8000-9363-43ad-a39a-2a9f9cfd641d",
   "metadata": {},
   "source": [
    "##### Input function"
   ]
  },
  {
   "cell_type": "code",
   "execution_count": 120,
   "id": "049e1147-311b-43f6-b955-8766b2cfd4a0",
   "metadata": {},
   "outputs": [
    {
     "name": "stdin",
     "output_type": "stream",
     "text": [
      "Enter the number 100\n"
     ]
    },
    {
     "name": "stdout",
     "output_type": "stream",
     "text": [
      "You entered: 100\n"
     ]
    }
   ],
   "source": [
    "num1 = input(\"Enter the number\")\n",
    "print(\"You entered:\", num1)"
   ]
  },
  {
   "cell_type": "code",
   "execution_count": 122,
   "id": "d0884ae3-afa6-490b-bd00-6d5e4df562df",
   "metadata": {},
   "outputs": [
    {
     "name": "stdin",
     "output_type": "stream",
     "text": [
      "Enter first number 45\n",
      "Enter second number 23\n"
     ]
    },
    {
     "name": "stdout",
     "output_type": "stream",
     "text": [
      "Addition is: 68\n"
     ]
    }
   ],
   "source": [
    "num1 = int(input(\"Enter first number\"))\n",
    "num2 = int(input(\"Enter second number\"))\n",
    "add = num1 + num2\n",
    "print(\"Addition is:\", add)"
   ]
  },
  {
   "cell_type": "code",
   "execution_count": 123,
   "id": "63c29801-020e-4130-8cf2-a45c6f5b7861",
   "metadata": {},
   "outputs": [],
   "source": [
    "# Read distance in centimeters and convert it into inches"
   ]
  },
  {
   "cell_type": "code",
   "execution_count": 125,
   "id": "cf75b300-9cba-4372-bdc2-8ecf0f00c45f",
   "metadata": {},
   "outputs": [
    {
     "name": "stdin",
     "output_type": "stream",
     "text": [
      "Enter centimeters:  100\n"
     ]
    },
    {
     "name": "stdout",
     "output_type": "stream",
     "text": [
      "Inches: 39.37007874015748\n"
     ]
    }
   ],
   "source": [
    "cents = float(input(\"Enter centimeters: \"))\n",
    "inches = cents / 2.54\n",
    "print(\"Inches:\", inches)"
   ]
  },
  {
   "cell_type": "code",
   "execution_count": 127,
   "id": "4da06bed-f974-444c-8cd3-4658b154713c",
   "metadata": {},
   "outputs": [],
   "source": [
    "# Read the temperature in centigrade and convert into fahrenhite\n",
    "# far = 9/5 * cent + 32"
   ]
  },
  {
   "cell_type": "code",
   "execution_count": 128,
   "id": "b83f3fa1-77dd-440e-bdc9-d7af1069d158",
   "metadata": {},
   "outputs": [
    {
     "name": "stdin",
     "output_type": "stream",
     "text": [
      "Enter centigrade temp:  -40\n"
     ]
    },
    {
     "name": "stdout",
     "output_type": "stream",
     "text": [
      "Inches: -40.0\n"
     ]
    }
   ],
   "source": [
    "cent = float(input(\"Enter centigrade temp: \"))\n",
    "far = cent * 9/5 + 32\n",
    "print(\"Inches:\", far)"
   ]
  },
  {
   "cell_type": "code",
   "execution_count": 129,
   "id": "54b0fce0-4988-462c-bfa0-07a5fdc552bf",
   "metadata": {},
   "outputs": [],
   "source": [
    "# Read basic salary and calculate gross salary\n",
    "# gross salary = basic + DA + HRA\n",
    "# DA is 50% of Basic\n",
    "# HRA is 20% of DA"
   ]
  },
  {
   "cell_type": "code",
   "execution_count": 130,
   "id": "49525bcc-16c9-4972-b4a4-e14712772cc2",
   "metadata": {},
   "outputs": [
    {
     "name": "stdin",
     "output_type": "stream",
     "text": [
      "Enter basic salary:  10000\n"
     ]
    },
    {
     "name": "stdout",
     "output_type": "stream",
     "text": [
      "Gross Salary: 16000.0\n"
     ]
    }
   ],
   "source": [
    "basic = float(input(\"Enter basic salary: \"))\n",
    "da = 50/100 * basic\n",
    "hra = 20/100 * da\n",
    "gross = da + hra + basic\n",
    "print(\"Gross Salary:\", gross)"
   ]
  },
  {
   "cell_type": "markdown",
   "id": "ecc8bd38-f2bf-45ee-aaaa-f70833b35aa0",
   "metadata": {},
   "source": [
    "Problem: Calculate the simple interest and the total amount to be repaid on a loan.\n",
    "\n",
    "Details:\n",
    "\n",
    "    Read a principal amount, an annual interest rate, and a time period in years.\n",
    "\n",
    "    The formula for simple interest is: SI= (principal x rate x time ) / 100\n",
    "\n",
    "    The total amount is: TotalAmount=Principal+SimpleInterest"
   ]
  },
  {
   "cell_type": "code",
   "execution_count": 133,
   "id": "6a11eab4-532b-4cf0-bcbe-bb0b0b44ff4d",
   "metadata": {},
   "outputs": [
    {
     "name": "stdin",
     "output_type": "stream",
     "text": [
      "Enter principal amount:  10000\n",
      "Enter interest rate:  7.9\n",
      "Enter number of years:  5\n"
     ]
    },
    {
     "name": "stdout",
     "output_type": "stream",
     "text": [
      "Simple Interest: 3950.0 and Total Amount: 13950.0\n"
     ]
    }
   ],
   "source": [
    "principal = float(input(\"Enter principal amount: \"))\n",
    "rate = float(input(\"Enter interest rate: \"))\n",
    "time = float(input(\"Enter number of years: \"))\n",
    "si = (principal * rate * time ) / 100\n",
    "total = principal + si\n",
    "print(\"Simple Interest:\",si,\"and Total Amount:\", total)"
   ]
  },
  {
   "cell_type": "markdown",
   "id": "3656114e-469a-440f-b468-9dfb4aee835d",
   "metadata": {},
   "source": [
    "Problem: Calculate the total profit or loss from buying and selling a number of shares of a stock.\n",
    "\n",
    "Details:\n",
    "\n",
    "    You need to find the difference between the total selling price and the total buying price.\n",
    "\n",
    "    The formula is: Profit/Loss=(SellingPricetimes NumberOfShares)−(BuyingPricetimes NumberOfShares)"
   ]
  },
  {
   "cell_type": "code",
   "execution_count": 136,
   "id": "db3c389d-cba0-44db-9868-d7bc3d702114",
   "metadata": {},
   "outputs": [
    {
     "name": "stdin",
     "output_type": "stream",
     "text": [
      "Enter buying price:  678.34\n",
      "Enter selling price:  789.10\n",
      "Enter number of shares:  100\n"
     ]
    },
    {
     "name": "stdout",
     "output_type": "stream",
     "text": [
      "The total profit from this trade is: 11076.0\n"
     ]
    }
   ],
   "source": [
    "buying_price_per_share = float(input(\"Enter buying price: \"))\n",
    "selling_price_per_share = float(input(\"Enter selling price: \"))\n",
    "number_of_shares = float(input(\"Enter number of shares: \"))\n",
    "\n",
    "total_cost = buying_price_per_share * number_of_shares\n",
    "total_sale = selling_price_per_share * number_of_shares\n",
    "\n",
    "profit_or_loss = total_sale - total_cost\n",
    "\n",
    "print(\"The total profit from this trade is:\", profit_or_loss)"
   ]
  },
  {
   "cell_type": "code",
   "execution_count": null,
   "id": "3d3285f0-ae81-4cf5-8c39-3a39140579bf",
   "metadata": {},
   "outputs": [],
   "source": []
  }
 ],
 "metadata": {
  "kernelspec": {
   "display_name": "Python 3 (ipykernel)",
   "language": "python",
   "name": "python3"
  },
  "language_info": {
   "codemirror_mode": {
    "name": "ipython",
    "version": 3
   },
   "file_extension": ".py",
   "mimetype": "text/x-python",
   "name": "python",
   "nbconvert_exporter": "python",
   "pygments_lexer": "ipython3",
   "version": "3.10.12"
  }
 },
 "nbformat": 4,
 "nbformat_minor": 5
}
