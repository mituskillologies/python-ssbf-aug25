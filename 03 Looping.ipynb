{
 "cells": [
  {
   "cell_type": "markdown",
   "id": "e63cd6a8-3846-4a9a-ad24-ad6c508944b5",
   "metadata": {},
   "source": [
    "##### While loop"
   ]
  },
  {
   "cell_type": "code",
   "execution_count": 2,
   "id": "76f0a8a7-5cd9-4a71-8aa4-354d6446e3f4",
   "metadata": {},
   "outputs": [
    {
     "name": "stdout",
     "output_type": "stream",
     "text": [
      "Tushar\n",
      "Tushar\n",
      "Tushar\n",
      "Tushar\n",
      "Tushar\n",
      "Tushar\n",
      "Tushar\n",
      "Tushar\n",
      "Tushar\n",
      "Tushar\n"
     ]
    }
   ],
   "source": [
    "count = 0\n",
    "while count < 10:\n",
    "    print('Tushar')\n",
    "    count += 1"
   ]
  },
  {
   "cell_type": "code",
   "execution_count": 6,
   "id": "d0b98d69-bf38-4d19-af8b-8d241f5e922d",
   "metadata": {},
   "outputs": [
    {
     "name": "stdout",
     "output_type": "stream",
     "text": [
      "Addition is: 55\n"
     ]
    }
   ],
   "source": [
    "# Addition of first 10 natural numbers\n",
    "add = 0\n",
    "num = 1\n",
    "while num <= 10:\n",
    "    add = add + num\n",
    "    num += 1\n",
    "\n",
    "print(\"Addition is:\", add)"
   ]
  },
  {
   "cell_type": "code",
   "execution_count": 4,
   "id": "6ca7b09e-94a0-45f7-907f-cfd86d08be2d",
   "metadata": {},
   "outputs": [
    {
     "data": {
      "text/plain": [
       "55"
      ]
     },
     "execution_count": 4,
     "metadata": {},
     "output_type": "execute_result"
    }
   ],
   "source": [
    "add"
   ]
  },
  {
   "cell_type": "code",
   "execution_count": 5,
   "id": "cefe7fec-f6ac-46cb-8132-3517e45bc1ca",
   "metadata": {},
   "outputs": [
    {
     "data": {
      "text/plain": [
       "11"
      ]
     },
     "execution_count": 5,
     "metadata": {},
     "output_type": "execute_result"
    }
   ],
   "source": [
    "num"
   ]
  },
  {
   "cell_type": "code",
   "execution_count": 7,
   "id": "421e8748-343c-4e08-8bff-3ec8a7620ba8",
   "metadata": {},
   "outputs": [
    {
     "name": "stdout",
     "output_type": "stream",
     "text": [
      "Addition is: 100\n"
     ]
    }
   ],
   "source": [
    "# Addition of first 10 natural numbers\n",
    "add = 0\n",
    "num = 1\n",
    "while num <= 20:\n",
    "    add = add + num\n",
    "    num += 2\n",
    "\n",
    "print(\"Addition is:\", add)"
   ]
  },
  {
   "cell_type": "code",
   "execution_count": 11,
   "id": "e71bac8e-8516-4efb-af34-801dd9215d66",
   "metadata": {},
   "outputs": [
    {
     "name": "stdin",
     "output_type": "stream",
     "text": [
      "Enter the number:  67\n"
     ]
    }
   ],
   "source": [
    "# Read a number and find factorial of it\n",
    "# 5 = 5 x 4 x 3 x 2 x 1\n",
    "num = int(input(\"Enter the number: \"))\n",
    "fact = 1\n",
    "while num > 1:\n",
    "    fact = fact * num\n",
    "    num -= 1"
   ]
  },
  {
   "cell_type": "code",
   "execution_count": 12,
   "id": "fee0107c-5b24-4fd5-a8a5-b55347b38d1c",
   "metadata": {},
   "outputs": [
    {
     "data": {
      "text/plain": [
       "36471110918188685288249859096605464427167635314049524593701628500267962436943872000000000000000"
      ]
     },
     "execution_count": 12,
     "metadata": {},
     "output_type": "execute_result"
    }
   ],
   "source": [
    "fact"
   ]
  },
  {
   "cell_type": "markdown",
   "id": "02e3b064-ea78-480e-80a9-1ac1bbba4fd3",
   "metadata": {},
   "source": [
    "##### for loop"
   ]
  },
  {
   "cell_type": "code",
   "execution_count": 15,
   "id": "a5f8e0dd-b1e9-43f1-9ff3-272e324db92a",
   "metadata": {},
   "outputs": [
    {
     "name": "stdout",
     "output_type": "stream",
     "text": [
      "2025\n",
      "144\n",
      "2025\n",
      "3721\n",
      "729\n",
      "1849\n"
     ]
    }
   ],
   "source": [
    "for i in 45, 12, 45, 61,27, 43:\n",
    "    print(i * i)"
   ]
  },
  {
   "cell_type": "code",
   "execution_count": 18,
   "id": "7c428b99-f442-4c64-a5dc-590868e481b1",
   "metadata": {},
   "outputs": [
    {
     "name": "stdout",
     "output_type": "stream",
     "text": [
      "90\n",
      "PunePune\n",
      "69.56\n",
      "58\n"
     ]
    }
   ],
   "source": [
    "for i in 45, \"Pune\", 34.78, 29:\n",
    "    print(i * 2)"
   ]
  },
  {
   "cell_type": "code",
   "execution_count": 19,
   "id": "0c98749c-8f89-454c-adaf-d3aa8a507c7f",
   "metadata": {},
   "outputs": [
    {
     "name": "stdout",
     "output_type": "stream",
     "text": [
      "TTTTTTTTTTTTTTTTTTTTTTTTTTTTTTTTTTTTTTTTTTTTTTTTTT\n",
      "uuuuuuuuuuuuuuuuuuuuuuuuuuuuuuuuuuuuuuuuuuuuuuuuuu\n",
      "ssssssssssssssssssssssssssssssssssssssssssssssssss\n",
      "hhhhhhhhhhhhhhhhhhhhhhhhhhhhhhhhhhhhhhhhhhhhhhhhhh\n",
      "aaaaaaaaaaaaaaaaaaaaaaaaaaaaaaaaaaaaaaaaaaaaaaaaaa\n",
      "rrrrrrrrrrrrrrrrrrrrrrrrrrrrrrrrrrrrrrrrrrrrrrrrrr\n"
     ]
    }
   ],
   "source": [
    "for ch in \"Tushar\":\n",
    "    print(ch*50)"
   ]
  },
  {
   "cell_type": "code",
   "execution_count": 20,
   "id": "54fd2f0a-c693-4849-bfa1-b4b271218072",
   "metadata": {},
   "outputs": [
    {
     "data": {
      "text/plain": [
       "[0, 1, 2, 3, 4, 5, 6, 7, 8, 9]"
      ]
     },
     "execution_count": 20,
     "metadata": {},
     "output_type": "execute_result"
    }
   ],
   "source": [
    "list(range(10))"
   ]
  },
  {
   "cell_type": "code",
   "execution_count": 21,
   "id": "23b0a002-67a0-4844-9157-478c862cb591",
   "metadata": {},
   "outputs": [
    {
     "data": {
      "text/plain": [
       "[4, 5, 6, 7, 8, 9]"
      ]
     },
     "execution_count": 21,
     "metadata": {},
     "output_type": "execute_result"
    }
   ],
   "source": [
    "list(range(4,10))"
   ]
  },
  {
   "cell_type": "code",
   "execution_count": 23,
   "id": "17caa636-c532-4420-b1b0-c13ed3d5b8b8",
   "metadata": {},
   "outputs": [
    {
     "data": {
      "text/plain": [
       "[1, 3, 5, 7, 9, 11, 13, 15, 17, 19]"
      ]
     },
     "execution_count": 23,
     "metadata": {},
     "output_type": "execute_result"
    }
   ],
   "source": [
    "list(range(1,20,2))"
   ]
  },
  {
   "cell_type": "code",
   "execution_count": 25,
   "id": "8a7dd2dc-8558-4ae9-8a92-a48180495f6e",
   "metadata": {},
   "outputs": [
    {
     "data": {
      "text/plain": [
       "[20, 18, 16, 14, 12, 10, 8, 6, 4, 2, 0]"
      ]
     },
     "execution_count": 25,
     "metadata": {},
     "output_type": "execute_result"
    }
   ],
   "source": [
    "list(range(20,-1,-2))"
   ]
  },
  {
   "cell_type": "code",
   "execution_count": 27,
   "id": "d3a65799-cfbb-469e-8c4a-3cb624382a40",
   "metadata": {},
   "outputs": [
    {
     "name": "stdout",
     "output_type": "stream",
     "text": [
      "0\n",
      "1\n",
      "4\n",
      "9\n",
      "16\n"
     ]
    }
   ],
   "source": [
    "for i in range(5):\n",
    "    print(i * i)"
   ]
  },
  {
   "cell_type": "code",
   "execution_count": 28,
   "id": "8823430c-77e3-466d-8c18-b436918df849",
   "metadata": {},
   "outputs": [
    {
     "name": "stdout",
     "output_type": "stream",
     "text": [
      "Tushar\n",
      "Tushar\n",
      "Tushar\n",
      "Tushar\n",
      "Tushar\n",
      "Tushar\n",
      "Tushar\n",
      "Tushar\n",
      "Tushar\n",
      "Tushar\n"
     ]
    }
   ],
   "source": [
    "# print your name 10 times\n",
    "for i in range(10):\n",
    "    print(\"Tushar\")"
   ]
  },
  {
   "cell_type": "code",
   "execution_count": 30,
   "id": "1dc4ddec-3cf5-4ac2-82f1-a5956d11bdcd",
   "metadata": {},
   "outputs": [
    {
     "name": "stdout",
     "output_type": "stream",
     "text": [
      "55\n"
     ]
    }
   ],
   "source": [
    "# addition of first 10 natural numbers\n",
    "add = 0\n",
    "for i in range(1,11):\n",
    "    add = add + i\n",
    "\n",
    "print(add)"
   ]
  },
  {
   "cell_type": "code",
   "execution_count": 31,
   "id": "3122703e-b781-4243-9a4d-a3ad8c29de96",
   "metadata": {},
   "outputs": [
    {
     "name": "stdout",
     "output_type": "stream",
     "text": [
      "100\n"
     ]
    }
   ],
   "source": [
    "add = 0\n",
    "for i in range(1,20,2):\n",
    "    add = add + i\n",
    "\n",
    "print(add)"
   ]
  },
  {
   "cell_type": "code",
   "execution_count": 33,
   "id": "637c78d4-97e4-4196-9550-22f7769c117a",
   "metadata": {},
   "outputs": [
    {
     "name": "stdin",
     "output_type": "stream",
     "text": [
      "Enter the number:  5\n"
     ]
    },
    {
     "name": "stdout",
     "output_type": "stream",
     "text": [
      "Factorial is: 120\n"
     ]
    }
   ],
   "source": [
    "# Read a number and find factorial of it\n",
    "# 5 = 5 x 4 x 3 x 2 x 1\n",
    "num = int(input(\"Enter the number: \"))\n",
    "fact = 1\n",
    "for i in range(1, num + 1):\n",
    "    fact = fact * i\n",
    "\n",
    "print(\"Factorial is:\", fact)"
   ]
  },
  {
   "cell_type": "markdown",
   "id": "ede40328-f748-4543-bffa-061baaa6605d",
   "metadata": {},
   "source": [
    "##### break"
   ]
  },
  {
   "cell_type": "code",
   "execution_count": 36,
   "id": "eacd3a50-f386-4d53-88a2-b72b746cd370",
   "metadata": {},
   "outputs": [
    {
     "name": "stdout",
     "output_type": "stream",
     "text": [
      "0\n",
      "1\n",
      "2\n",
      "3\n",
      "4\n"
     ]
    }
   ],
   "source": [
    "for i in range(10):\n",
    "    if i == 5:\n",
    "        break\n",
    "    print(i)"
   ]
  },
  {
   "cell_type": "markdown",
   "id": "c69e2135-d3b6-4361-bf2f-2d338b8a2637",
   "metadata": {},
   "source": [
    "##### continue"
   ]
  },
  {
   "cell_type": "code",
   "execution_count": 39,
   "id": "fd13ef22-4699-4f46-b86a-4e5e37dd3845",
   "metadata": {},
   "outputs": [
    {
     "name": "stdout",
     "output_type": "stream",
     "text": [
      "0\n",
      "1\n",
      "2\n",
      "3\n",
      "4\n",
      "6\n",
      "7\n",
      "8\n",
      "9\n"
     ]
    }
   ],
   "source": [
    "for i in range(10):\n",
    "    if i == 5:\n",
    "        continue\n",
    "    print(i)"
   ]
  },
  {
   "cell_type": "markdown",
   "id": "5c0f618e-c5f4-469c-a63a-277f327f3759",
   "metadata": {},
   "source": [
    "1. Investment Growth Projection 📈\n",
    "\n",
    "Problem: You have an initial investment amount that grows at a fixed annual interest rate. Write a program to project the value of this investment over a specific number of years.\n",
    "\n",
    "Logic:\n",
    "\n",
    "    Use a for loop that runs for the desired number of years.\n",
    "\n",
    "    In each iteration (year), calculate the interest earned for that year.\n",
    "\n",
    "    Add the interest to the current balance to get the new balance for the start of the next year (this is called compounding).\n",
    "\n",
    "    Print the balance at the end of each year."
   ]
  },
  {
   "cell_type": "code",
   "execution_count": 42,
   "id": "8374b0a2-7fdb-4208-aed5-c448ae300dba",
   "metadata": {},
   "outputs": [
    {
     "name": "stdin",
     "output_type": "stream",
     "text": [
      "Enter initial investment:  56000\n",
      "Enter annual ROI:  5.6\n",
      "How many number of years:  5\n"
     ]
    },
    {
     "name": "stdout",
     "output_type": "stream",
     "text": [
      "Year: 1, Balance = ₹59136.00\n",
      "Year: 2, Balance = ₹62447.62\n",
      "Year: 3, Balance = ₹65944.68\n",
      "Year: 4, Balance = ₹69637.58\n",
      "Year: 5, Balance = ₹73537.29\n"
     ]
    }
   ],
   "source": [
    "# Inputs\n",
    "initial_investment = float(input(\"Enter initial investment: \"))\n",
    "annual_rate = float(input(\"Enter annual ROI: \"))\n",
    "years = int(input(\"How many number of years: \"))\n",
    "\n",
    "current_balance = initial_investment\n",
    "\n",
    "for year in range(1, years + 1):\n",
    "    interest_earned = current_balance * (annual_rate / 100)  \n",
    "    current_balance += interest_earned\n",
    "    print(\"Year: %i, Balance = ₹%.2f\" %(year, current_balance))"
   ]
  },
  {
   "cell_type": "markdown",
   "id": "3dce7118-333d-4e8d-a654-28759481439f",
   "metadata": {},
   "source": [
    "3. Recurring Deposit (RD) Maturity Calculator 💰\n",
    "\n",
    "Problem: Calculate the maturity value of a recurring deposit (RD). You deposit a fixed amount every month for a certain number of months at a fixed annual interest rate.\n",
    "\n",
    "Logic:\n",
    "\n",
    "    This simulation calculates interest on a monthly basis.\n",
    "\n",
    "    Use a for loop to iterate through each month of the RD term.\n",
    "\n",
    "    In each month, add the fixed monthly deposit to the current balance.\n",
    "\n",
    "    Calculate the interest for that month on the new balance and add it to a separate total_interest variable. The principal grows, but interest is calculated and pooled separately until the end.\n",
    "\n",
    "    Note: This is a simplified model. Real bank calculations can be more complex.\n",
    "\n",
    "\n"
   ]
  },
  {
   "cell_type": "code",
   "execution_count": 44,
   "id": "ba27a07f-7967-4335-a442-cef333a49227",
   "metadata": {},
   "outputs": [
    {
     "name": "stdin",
     "output_type": "stream",
     "text": [
      "Enter monthly deposit:  1000\n",
      "Enter terms in months:  24\n",
      "Enter annual rate:  8.0\n"
     ]
    },
    {
     "name": "stdout",
     "output_type": "stream",
     "text": [
      "Total Principal Deposited: ₹24000.00\n",
      "Total Interest Earned: ₹2000.00\n",
      "Maturity Amount: ₹26000.00\n"
     ]
    }
   ],
   "source": [
    "# Inputs\n",
    "monthly_deposit = float(input(\"Enter monthly deposit: \"))\n",
    "term_in_months = int(input(\"Enter terms in months: \"))\n",
    "annual_rate = float(input(\"Enter annual rate: \"))\n",
    "\n",
    "monthly_rate = (annual_rate / 100) / 12\n",
    "\n",
    "total_principal = 0.0\n",
    "total_interest = 0.0\n",
    "current_balance = 0.0\n",
    "\n",
    "for month in range(1, term_in_months + 1):\n",
    "    current_balance += monthly_deposit\n",
    "    interest_this_month = current_balance * monthly_rate\n",
    "    total_interest += interest_this_month\n",
    "\n",
    "maturity_amount = (monthly_deposit * term_in_months) + total_interest\n",
    "\n",
    "print(\"Total Principal Deposited: ₹%.2f\" %(monthly_deposit * term_in_months))\n",
    "print(\"Total Interest Earned: ₹%.2f\" %(total_interest))\n",
    "print(\"Maturity Amount: ₹%.2f\" %(maturity_amount))"
   ]
  },
  {
   "cell_type": "code",
   "execution_count": 45,
   "id": "b7ebe6ff-cf33-4164-a504-522932f7c6d8",
   "metadata": {},
   "outputs": [
    {
     "data": {
      "text/plain": [
       "0.006666666666666667"
      ]
     },
     "execution_count": 45,
     "metadata": {},
     "output_type": "execute_result"
    }
   ],
   "source": [
    "monthly_rate"
   ]
  },
  {
   "cell_type": "code",
   "execution_count": 46,
   "id": "29e0b43f-dad0-4a32-a24f-3577138bf428",
   "metadata": {},
   "outputs": [
    {
     "data": {
      "text/plain": [
       "1000.0"
      ]
     },
     "execution_count": 46,
     "metadata": {},
     "output_type": "execute_result"
    }
   ],
   "source": [
    "monthly_deposit"
   ]
  },
  {
   "cell_type": "code",
   "execution_count": 47,
   "id": "ecacada1-6ea5-4b82-ab0b-d866f2a5869e",
   "metadata": {},
   "outputs": [
    {
     "data": {
      "text/plain": [
       "24000.0"
      ]
     },
     "execution_count": 47,
     "metadata": {},
     "output_type": "execute_result"
    }
   ],
   "source": [
    "current_balance"
   ]
  },
  {
   "cell_type": "code",
   "execution_count": null,
   "id": "2614cf4e-d6b8-496d-b08b-1462c4dfe590",
   "metadata": {},
   "outputs": [],
   "source": []
  }
 ],
 "metadata": {
  "kernelspec": {
   "display_name": "Python 3 (ipykernel)",
   "language": "python",
   "name": "python3"
  },
  "language_info": {
   "codemirror_mode": {
    "name": "ipython",
    "version": 3
   },
   "file_extension": ".py",
   "mimetype": "text/x-python",
   "name": "python",
   "nbconvert_exporter": "python",
   "pygments_lexer": "ipython3",
   "version": "3.10.12"
  }
 },
 "nbformat": 4,
 "nbformat_minor": 5
}
