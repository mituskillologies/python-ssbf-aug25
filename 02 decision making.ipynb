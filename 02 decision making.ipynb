{
 "cells": [
  {
   "cell_type": "code",
   "execution_count": 9,
   "id": "f262a085-e99d-44e5-97ec-9d8cbdb48534",
   "metadata": {},
   "outputs": [
    {
     "name": "stdin",
     "output_type": "stream",
     "text": [
      "Enter the number:  0\n"
     ]
    },
    {
     "name": "stdout",
     "output_type": "stream",
     "text": [
      "Negative\n",
      "Done!\n"
     ]
    }
   ],
   "source": [
    "num = int(input('Enter the number: '))\n",
    "if num > 0:\n",
    "    print('Positive')\n",
    "else:\n",
    "    print('Negative')\n",
    "print('Done!')"
   ]
  },
  {
   "cell_type": "code",
   "execution_count": 11,
   "id": "436792e4-da85-41c6-b8c4-940cbd82d384",
   "metadata": {},
   "outputs": [
    {
     "name": "stdin",
     "output_type": "stream",
     "text": [
      "Enter the number:  78\n"
     ]
    },
    {
     "name": "stdout",
     "output_type": "stream",
     "text": [
      "Positive\n",
      "Done!\n"
     ]
    }
   ],
   "source": [
    "num = int(input('Enter the number: '))\n",
    "if num > 0:               # Compulsory, Condition, Non-repeatable\n",
    "    print('Positive')\n",
    "elif num == 0:            # Optional, Condition, Repeatable\n",
    "    print(\"It is Zero!\")\n",
    "else:                     # Optional, No-Condition, Non-repeatable\n",
    "    print('Negative')\n",
    "print('Done!')"
   ]
  },
  {
   "cell_type": "markdown",
   "id": "050366c8-6f99-445a-a893-5a049f970827",
   "metadata": {},
   "source": [
    "##### Nested if"
   ]
  },
  {
   "cell_type": "code",
   "execution_count": 12,
   "id": "73bc16bc-afd2-4c48-8324-ae2f86561a04",
   "metadata": {},
   "outputs": [
    {
     "name": "stdin",
     "output_type": "stream",
     "text": [
      "Enter the number:  78\n"
     ]
    },
    {
     "name": "stdout",
     "output_type": "stream",
     "text": [
      "YES\n"
     ]
    }
   ],
   "source": [
    "# check the number is between 50 and 100\n",
    "num = int(input('Enter the number: '))\n",
    "if num >= 50:\n",
    "    if num <= 100:\n",
    "        print(\"YES\")\n",
    "    else:\n",
    "        print(\"NO\")\n",
    "else:\n",
    "    print(\"NO\")"
   ]
  },
  {
   "cell_type": "markdown",
   "id": "8fe16e2e-1df3-45fe-aeda-93742de094e5",
   "metadata": {},
   "source": [
    "##### and operator"
   ]
  },
  {
   "cell_type": "code",
   "execution_count": 17,
   "id": "23b058a1-1376-4724-924d-77f07304a9c7",
   "metadata": {
    "jp-MarkdownHeadingCollapsed": true
   },
   "outputs": [
    {
     "name": "stdin",
     "output_type": "stream",
     "text": [
      "Enter the number:  9\n"
     ]
    },
    {
     "name": "stdout",
     "output_type": "stream",
     "text": [
      "NO\n"
     ]
    }
   ],
   "source": [
    "## check the number is between 50 and 100\n",
    "num = int(input('Enter the number: '))\n",
    "if num >= 50 and num <= 100:\n",
    "    print(\"YES\")\n",
    "else:\n",
    "    print(\"NO\")"
   ]
  },
  {
   "cell_type": "code",
   "execution_count": 21,
   "id": "39e6885c-541d-4bed-b572-2c3de4dacfc1",
   "metadata": {},
   "outputs": [
    {
     "name": "stdin",
     "output_type": "stream",
     "text": [
      "Enter the year:  2025\n"
     ]
    },
    {
     "name": "stdout",
     "output_type": "stream",
     "text": [
      "Not Leap!\n"
     ]
    }
   ],
   "source": [
    "# check the year is leap or not\n",
    "year = int(input('Enter the year: '))\n",
    "if year % 4 == 0:\n",
    "    print(\"Leap\")\n",
    "else:\n",
    "    print(\"Not Leap!\")"
   ]
  },
  {
   "cell_type": "code",
   "execution_count": null,
   "id": "460c1d03-7b26-48e6-9e8b-171c1d590447",
   "metadata": {},
   "outputs": [],
   "source": []
  },
  {
   "cell_type": "code",
   "execution_count": 22,
   "id": "cc7dfcc7-a7f0-4b3a-a664-bdff08592aee",
   "metadata": {},
   "outputs": [
    {
     "data": {
      "text/plain": [
       "0"
      ]
     },
     "execution_count": 22,
     "metadata": {},
     "output_type": "execute_result"
    }
   ],
   "source": [
    "1900 % 4"
   ]
  },
  {
   "cell_type": "markdown",
   "id": "57819a59-7f2e-402d-b520-15496ef3a275",
   "metadata": {},
   "source": [
    "1900 -> Not Leap\n",
    "2000 -> Leap\n",
    "2011 -> Not Leap\n",
    "2024 -> Leap"
   ]
  },
  {
   "cell_type": "code",
   "execution_count": 25,
   "id": "30666285-c2be-4a2a-af80-b15c9519a108",
   "metadata": {},
   "outputs": [
    {
     "data": {
      "text/plain": [
       "96"
      ]
     },
     "execution_count": 25,
     "metadata": {},
     "output_type": "execute_result"
    }
   ],
   "source": [
    "1996 % 100"
   ]
  },
  {
   "cell_type": "code",
   "execution_count": null,
   "id": "7349ac63-6b85-4cab-9599-1774a481db3c",
   "metadata": {},
   "outputs": [],
   "source": [
    "# check the year is leap or not\n",
    "year = int(input('Enter the year: '))\n",
    "if year % 4 == 0:\n",
    "    if year % 100 == 0:\n",
    "        if year % 400 == 0:\n",
    "            print(\"Leap\")            # 2000\n",
    "        else:\n",
    "            print(\"Not Leap\")        # 1900\n",
    "    else:\n",
    "        print(\"Leap\")                # 2024\n",
    "else:\n",
    "    print(\"Not Leap!\")               # 2011"
   ]
  },
  {
   "cell_type": "code",
   "execution_count": 29,
   "id": "91ddbd79-4da5-473a-8153-df38c39094bd",
   "metadata": {},
   "outputs": [
    {
     "name": "stdin",
     "output_type": "stream",
     "text": [
      "Enter account balance: 67898\n"
     ]
    },
    {
     "name": "stdout",
     "output_type": "stream",
     "text": [
      "Applicable Interest Rate: 3.5\n",
      "Annual Interest Earned: ₹2376.43\n"
     ]
    }
   ],
   "source": [
    "# Input\n",
    "account_balance = float(input(\"Enter account balance:\"))\n",
    "\n",
    "# Determine the interest rate using if-elif-else\n",
    "if account_balance < 50000:\n",
    "    interest_rate = 3.0\n",
    "elif account_balance <= 100000:\n",
    "    interest_rate = 3.5\n",
    "else:\n",
    "    interest_rate = 4.0\n",
    "\n",
    "# Calculate the interest earned\n",
    "interest_earned = account_balance * (interest_rate / 100)\n",
    "\n",
    "print(\"Applicable Interest Rate:\", interest_rate)\n",
    "print(\"Annual Interest Earned: ₹%.2f\" %interest_earned)"
   ]
  },
  {
   "cell_type": "code",
   "execution_count": null,
   "id": "e505ac64-be36-4177-8bfb-7296f0dfb080",
   "metadata": {},
   "outputs": [],
   "source": []
  }
 ],
 "metadata": {
  "kernelspec": {
   "display_name": "Python 3 (ipykernel)",
   "language": "python",
   "name": "python3"
  },
  "language_info": {
   "codemirror_mode": {
    "name": "ipython",
    "version": 3
   },
   "file_extension": ".py",
   "mimetype": "text/x-python",
   "name": "python",
   "nbconvert_exporter": "python",
   "pygments_lexer": "ipython3",
   "version": "3.10.12"
  }
 },
 "nbformat": 4,
 "nbformat_minor": 5
}
